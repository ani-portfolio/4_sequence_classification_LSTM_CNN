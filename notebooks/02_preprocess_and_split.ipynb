{
 "cells": [
  {
   "cell_type": "code",
   "execution_count": 1,
   "metadata": {},
   "outputs": [],
   "source": [
    "# autoreload\n",
    "%load_ext autoreload\n",
    "%autoreload 2\n",
    "\n",
    "# change current working directory to the root of the project\n",
    "import os\n",
    "os.chdir(os.path.dirname(os.getcwd()))"
   ]
  },
  {
   "attachments": {},
   "cell_type": "markdown",
   "metadata": {},
   "source": [
    "# Purpose\n",
    "- Purpose of this notebook is to create train and validation sets\n",
    "- Test set has already been created"
   ]
  },
  {
   "cell_type": "code",
   "execution_count": 2,
   "metadata": {},
   "outputs": [],
   "source": [
    "from IPython.display import display\n",
    "import joblib\n",
    "\n",
    "import pandas as pd\n",
    "import numpy as np\n",
    "\n",
    "from sklearn.model_selection import train_test_split\n",
    "from sklearn.preprocessing import MinMaxScaler\n",
    "from sklearn.preprocessing import LabelEncoder\n",
    "from sklearn.pipeline import Pipeline\n",
    "from sklearn.compose import ColumnTransformer"
   ]
  },
  {
   "cell_type": "markdown",
   "metadata": {},
   "source": [
    "# Load Data"
   ]
  },
  {
   "cell_type": "code",
   "execution_count": 3,
   "metadata": {},
   "outputs": [],
   "source": [
    "nrows = None\n",
    "data = pd.read_csv('data/transformed/transformed_data.csv', nrows=nrows)\n",
    "\n",
    "# order by user id and timestamp\n",
    "data = data.sort_values(['user_id', 'timestamp']).reset_index(drop=True)\n",
    "\n",
    "X = data.drop('activity', axis=1)\n",
    "y = data['activity']"
   ]
  },
  {
   "attachments": {},
   "cell_type": "markdown",
   "metadata": {},
   "source": [
    "# Split the data into train and validation sets\n",
    "- Split based on User ID"
   ]
  },
  {
   "cell_type": "code",
   "execution_count": 4,
   "metadata": {},
   "outputs": [],
   "source": [
    "\n",
    "# unique user id\n",
    "user_ids = X['user_id'].unique()\n",
    "\n",
    "# split user ids into train, validation and test\n",
    "train_ids, test_ids = train_test_split(user_ids, test_size=0.2, random_state=42)\n",
    "\n",
    "# split train ids into train and validation\n",
    "train_ids, val_ids = train_test_split(train_ids, test_size=0.2, random_state=42)\n",
    "\n",
    "# split data into train, validation and test\n",
    "train = data[data['user_id'].isin(train_ids)]\n",
    "val = data[data['user_id'].isin(val_ids)]\n",
    "test = data[data['user_id'].isin(test_ids)]"
   ]
  },
  {
   "cell_type": "code",
   "execution_count": 5,
   "metadata": {},
   "outputs": [
    {
     "name": "stdout",
     "output_type": "stream",
     "text": [
      "Training Set\n",
      "632284 rows\n",
      "199298 rows\n",
      "266622 rows\n"
     ]
    }
   ],
   "source": [
    "print('Training Set')\n",
    "print(f'{train.shape[0]} rows')\n",
    "print(f'{val.shape[0]} rows')\n",
    "print(f'{test.shape[0]} rows')"
   ]
  },
  {
   "cell_type": "markdown",
   "metadata": {},
   "source": [
    "# Scale and encode data"
   ]
  },
  {
   "cell_type": "code",
   "execution_count": 6,
   "metadata": {},
   "outputs": [],
   "source": [
    "features = ['x', 'y', 'z']\n",
    "target = 'activity'\n",
    "\n",
    "scaler = MinMaxScaler()\n",
    "encoder = LabelEncoder()"
   ]
  },
  {
   "cell_type": "code",
   "execution_count": 7,
   "metadata": {},
   "outputs": [
    {
     "data": {
      "text/plain": [
       "['models/scaler.pkl']"
      ]
     },
     "execution_count": 7,
     "metadata": {},
     "output_type": "execute_result"
    }
   ],
   "source": [
    "pd.options.mode.chained_assignment = None\n",
    "\n",
    "train[features] = scaler.fit_transform(train[features])\n",
    "val[features] = scaler.transform(val[features])\n",
    "test[features] = scaler.transform(test[features])\n",
    "\n",
    "train[target] = encoder.fit_transform(train[target])\n",
    "val[target] = encoder.transform(val[target])\n",
    "test[target] = encoder.transform(test[target])\n",
    "\n",
    "# save the scaler and encoder using joblib\n",
    "joblib.dump(encoder, \"models/encoder.pkl\")\n",
    "joblib.dump(scaler, \"models/scaler.pkl\")"
   ]
  },
  {
   "cell_type": "code",
   "execution_count": 8,
   "metadata": {},
   "outputs": [
    {
     "data": {
      "text/html": [
       "<div>\n",
       "<style scoped>\n",
       "    .dataframe tbody tr th:only-of-type {\n",
       "        vertical-align: middle;\n",
       "    }\n",
       "\n",
       "    .dataframe tbody tr th {\n",
       "        vertical-align: top;\n",
       "    }\n",
       "\n",
       "    .dataframe thead th {\n",
       "        text-align: right;\n",
       "    }\n",
       "</style>\n",
       "<table border=\"1\" class=\"dataframe\">\n",
       "  <thead>\n",
       "    <tr style=\"text-align: right;\">\n",
       "      <th></th>\n",
       "      <th>user_id</th>\n",
       "      <th>activity</th>\n",
       "      <th>timestamp</th>\n",
       "      <th>x</th>\n",
       "      <th>y</th>\n",
       "      <th>z</th>\n",
       "    </tr>\n",
       "  </thead>\n",
       "  <tbody>\n",
       "    <tr>\n",
       "      <th>0</th>\n",
       "      <td>1</td>\n",
       "      <td>5</td>\n",
       "      <td>4991922345000</td>\n",
       "      <td>0.513664</td>\n",
       "      <td>0.766961</td>\n",
       "      <td>0.766961</td>\n",
       "    </tr>\n",
       "    <tr>\n",
       "      <th>1</th>\n",
       "      <td>1</td>\n",
       "      <td>5</td>\n",
       "      <td>4991972333000</td>\n",
       "      <td>0.669534</td>\n",
       "      <td>0.682219</td>\n",
       "      <td>0.682219</td>\n",
       "    </tr>\n",
       "    <tr>\n",
       "      <th>2</th>\n",
       "      <td>1</td>\n",
       "      <td>5</td>\n",
       "      <td>4992022351000</td>\n",
       "      <td>0.519737</td>\n",
       "      <td>0.636570</td>\n",
       "      <td>0.636570</td>\n",
       "    </tr>\n",
       "    <tr>\n",
       "      <th>3</th>\n",
       "      <td>1</td>\n",
       "      <td>5</td>\n",
       "      <td>4992072339000</td>\n",
       "      <td>0.442814</td>\n",
       "      <td>0.620933</td>\n",
       "      <td>0.620933</td>\n",
       "    </tr>\n",
       "    <tr>\n",
       "      <th>4</th>\n",
       "      <td>1</td>\n",
       "      <td>5</td>\n",
       "      <td>4992122358000</td>\n",
       "      <td>0.380061</td>\n",
       "      <td>0.602774</td>\n",
       "      <td>0.602774</td>\n",
       "    </tr>\n",
       "  </tbody>\n",
       "</table>\n",
       "</div>"
      ],
      "text/plain": [
       "   user_id  activity      timestamp         x         y         z\n",
       "0        1         5  4991922345000  0.513664  0.766961  0.766961\n",
       "1        1         5  4991972333000  0.669534  0.682219  0.682219\n",
       "2        1         5  4992022351000  0.519737  0.636570  0.636570\n",
       "3        1         5  4992072339000  0.442814  0.620933  0.620933\n",
       "4        1         5  4992122358000  0.380061  0.602774  0.602774"
      ]
     },
     "metadata": {},
     "output_type": "display_data"
    },
    {
     "data": {
      "text/html": [
       "<div>\n",
       "<style scoped>\n",
       "    .dataframe tbody tr th:only-of-type {\n",
       "        vertical-align: middle;\n",
       "    }\n",
       "\n",
       "    .dataframe tbody tr th {\n",
       "        vertical-align: top;\n",
       "    }\n",
       "\n",
       "    .dataframe thead th {\n",
       "        text-align: right;\n",
       "    }\n",
       "</style>\n",
       "<table border=\"1\" class=\"dataframe\">\n",
       "  <thead>\n",
       "    <tr style=\"text-align: right;\">\n",
       "      <th></th>\n",
       "      <th>user_id</th>\n",
       "      <th>activity</th>\n",
       "      <th>timestamp</th>\n",
       "      <th>x</th>\n",
       "      <th>y</th>\n",
       "      <th>z</th>\n",
       "    </tr>\n",
       "  </thead>\n",
       "  <tbody>\n",
       "    <tr>\n",
       "      <th>128544</th>\n",
       "      <td>6</td>\n",
       "      <td>1</td>\n",
       "      <td>0</td>\n",
       "      <td>0.496204</td>\n",
       "      <td>0.494578</td>\n",
       "      <td>0.494578</td>\n",
       "    </tr>\n",
       "    <tr>\n",
       "      <th>128545</th>\n",
       "      <td>6</td>\n",
       "      <td>1</td>\n",
       "      <td>0</td>\n",
       "      <td>0.496204</td>\n",
       "      <td>0.494578</td>\n",
       "      <td>0.494578</td>\n",
       "    </tr>\n",
       "    <tr>\n",
       "      <th>128546</th>\n",
       "      <td>6</td>\n",
       "      <td>1</td>\n",
       "      <td>0</td>\n",
       "      <td>0.496204</td>\n",
       "      <td>0.494578</td>\n",
       "      <td>0.494578</td>\n",
       "    </tr>\n",
       "    <tr>\n",
       "      <th>128547</th>\n",
       "      <td>6</td>\n",
       "      <td>1</td>\n",
       "      <td>0</td>\n",
       "      <td>0.496204</td>\n",
       "      <td>0.494578</td>\n",
       "      <td>0.494578</td>\n",
       "    </tr>\n",
       "    <tr>\n",
       "      <th>128548</th>\n",
       "      <td>6</td>\n",
       "      <td>1</td>\n",
       "      <td>0</td>\n",
       "      <td>0.496204</td>\n",
       "      <td>0.494578</td>\n",
       "      <td>0.494578</td>\n",
       "    </tr>\n",
       "  </tbody>\n",
       "</table>\n",
       "</div>"
      ],
      "text/plain": [
       "        user_id  activity  timestamp         x         y         z\n",
       "128544        6         1          0  0.496204  0.494578  0.494578\n",
       "128545        6         1          0  0.496204  0.494578  0.494578\n",
       "128546        6         1          0  0.496204  0.494578  0.494578\n",
       "128547        6         1          0  0.496204  0.494578  0.494578\n",
       "128548        6         1          0  0.496204  0.494578  0.494578"
      ]
     },
     "metadata": {},
     "output_type": "display_data"
    },
    {
     "data": {
      "text/html": [
       "<div>\n",
       "<style scoped>\n",
       "    .dataframe tbody tr th:only-of-type {\n",
       "        vertical-align: middle;\n",
       "    }\n",
       "\n",
       "    .dataframe tbody tr th {\n",
       "        vertical-align: top;\n",
       "    }\n",
       "\n",
       "    .dataframe thead th {\n",
       "        text-align: right;\n",
       "    }\n",
       "</style>\n",
       "<table border=\"1\" class=\"dataframe\">\n",
       "  <thead>\n",
       "    <tr style=\"text-align: right;\">\n",
       "      <th></th>\n",
       "      <th>user_id</th>\n",
       "      <th>activity</th>\n",
       "      <th>timestamp</th>\n",
       "      <th>x</th>\n",
       "      <th>y</th>\n",
       "      <th>z</th>\n",
       "    </tr>\n",
       "  </thead>\n",
       "  <tbody>\n",
       "    <tr>\n",
       "      <th>342509</th>\n",
       "      <td>13</td>\n",
       "      <td>1</td>\n",
       "      <td>0</td>\n",
       "      <td>0.496204</td>\n",
       "      <td>0.494578</td>\n",
       "      <td>0.494578</td>\n",
       "    </tr>\n",
       "    <tr>\n",
       "      <th>342510</th>\n",
       "      <td>13</td>\n",
       "      <td>1</td>\n",
       "      <td>0</td>\n",
       "      <td>0.496204</td>\n",
       "      <td>0.494578</td>\n",
       "      <td>0.494578</td>\n",
       "    </tr>\n",
       "    <tr>\n",
       "      <th>342511</th>\n",
       "      <td>13</td>\n",
       "      <td>1</td>\n",
       "      <td>0</td>\n",
       "      <td>0.496204</td>\n",
       "      <td>0.494578</td>\n",
       "      <td>0.494578</td>\n",
       "    </tr>\n",
       "    <tr>\n",
       "      <th>342512</th>\n",
       "      <td>13</td>\n",
       "      <td>1</td>\n",
       "      <td>0</td>\n",
       "      <td>0.496204</td>\n",
       "      <td>0.494578</td>\n",
       "      <td>0.494578</td>\n",
       "    </tr>\n",
       "    <tr>\n",
       "      <th>342513</th>\n",
       "      <td>13</td>\n",
       "      <td>1</td>\n",
       "      <td>0</td>\n",
       "      <td>0.496204</td>\n",
       "      <td>0.494578</td>\n",
       "      <td>0.494578</td>\n",
       "    </tr>\n",
       "  </tbody>\n",
       "</table>\n",
       "</div>"
      ],
      "text/plain": [
       "        user_id  activity  timestamp         x         y         z\n",
       "342509       13         1          0  0.496204  0.494578  0.494578\n",
       "342510       13         1          0  0.496204  0.494578  0.494578\n",
       "342511       13         1          0  0.496204  0.494578  0.494578\n",
       "342512       13         1          0  0.496204  0.494578  0.494578\n",
       "342513       13         1          0  0.496204  0.494578  0.494578"
      ]
     },
     "metadata": {},
     "output_type": "display_data"
    }
   ],
   "source": [
    "display(train.head())\n",
    "display(val.head())\n",
    "display(test.head())"
   ]
  },
  {
   "cell_type": "markdown",
   "metadata": {},
   "source": [
    "# Preprocess"
   ]
  },
  {
   "cell_type": "code",
   "execution_count": 15,
   "metadata": {},
   "outputs": [],
   "source": [
    "timesteps = 80 # length of each sequence\n",
    "steps = 20 # step size between sequences\n",
    "n_features = 3 \n",
    "n_classes = len(train[\"activity\"].unique().tolist())"
   ]
  },
  {
   "cell_type": "code",
   "execution_count": 16,
   "metadata": {},
   "outputs": [],
   "source": [
    "def preprocess_data(df, n_timesteps: int = 80, steps: int = 40):\n",
    "    \"\"\"\n",
    "    Preprocess data to samples x timesteps x features format and split into X and y.\n",
    "    \"\"\"\n",
    "\n",
    "    # merge X and y on index\n",
    "    data = df.copy()\n",
    "    \n",
    "    # select chunks of 240 timestamps with a step of 40 for each user and activity\n",
    "    chunks = []\n",
    "    activity = []\n",
    "    for index, df in data.groupby(['user_id', 'activity']):\n",
    "        # select chunks of 240 timestamps with a step of 40\n",
    "        for i in range(0, len(df), steps):\n",
    "            chunk = df[i:i+n_timesteps]\n",
    "            if len(chunk) == n_timesteps:\n",
    "                chunks.append(chunk[['x', 'y', 'z']].values.reshape(1, n_timesteps, 3))\n",
    "                activity.append(df['activity'].values[0])\n",
    "\n",
    "    X = np.concatenate(chunks, axis=0)\n",
    "    y = np.array(activity)\n",
    "\n",
    "    return X, y"
   ]
  },
  {
   "cell_type": "code",
   "execution_count": 17,
   "metadata": {},
   "outputs": [],
   "source": [
    "X_train, y_train = preprocess_data(train, timesteps, steps)\n",
    "X_val, y_val = preprocess_data(val, timesteps, steps)\n",
    "X_test, y_test = preprocess_data(test, timesteps, steps)"
   ]
  },
  {
   "cell_type": "code",
   "execution_count": 18,
   "metadata": {},
   "outputs": [
    {
     "name": "stdout",
     "output_type": "stream",
     "text": [
      "X_train.shape=(31225, 80, 3)\n",
      "y_train.shape=(31225,)\n",
      "X_val.shape=(9870, 80, 3)\n",
      "y_val.shape=(9870,)\n",
      "X_test.shape=(13181, 80, 3)\n",
      "y_test.shape=(13181,)\n"
     ]
    }
   ],
   "source": [
    "print(f'{X_train.shape=}')\n",
    "print(f'{y_train.shape=}')\n",
    "print(f'{X_val.shape=}')\n",
    "print(f'{y_val.shape=}')\n",
    "print(f'{X_test.shape=}')\n",
    "print(f'{y_test.shape=}')"
   ]
  },
  {
   "cell_type": "code",
   "execution_count": 19,
   "metadata": {},
   "outputs": [
    {
     "data": {
      "text/plain": [
       "['data/transformed/y_test.pkl']"
      ]
     },
     "execution_count": 19,
     "metadata": {},
     "output_type": "execute_result"
    }
   ],
   "source": [
    "# Save data using joblib\n",
    "joblib.dump(X_train, \"data/transformed/X_train.pkl\")\n",
    "joblib.dump(X_val, \"data/transformed/X_val.pkl\")\n",
    "joblib.dump(X_test, \"data/transformed/X_test.pkl\")\n",
    "\n",
    "joblib.dump(y_train, \"data/transformed/y_train.pkl\")\n",
    "joblib.dump(y_val, \"data/transformed/y_val.pkl\")\n",
    "joblib.dump(y_test, \"data/transformed/y_test.pkl\")"
   ]
  },
  {
   "cell_type": "code",
   "execution_count": 20,
   "metadata": {},
   "outputs": [
    {
     "data": {
      "text/plain": [
       "Text(0, 0.5, 'Percentage')"
      ]
     },
     "execution_count": 20,
     "metadata": {},
     "output_type": "execute_result"
    },
    {
     "data": {
      "image/png": "[encoded data removed]",
      "text/plain": [
       "<Figure size 2000x500 with 3 Axes>"
      ]
     },
     "metadata": {},
     "output_type": "display_data"
    }
   ],
   "source": [
    "# plot the distribution of the target variable\n",
    "import matplotlib.pyplot as plt\n",
    "import seaborn as sns\n",
    "\n",
    "fig, ax = plt.subplots(1, 3, figsize=(20, 5))\n",
    "\n",
    "train_target = pd.Series(y_train).value_counts(normalize=True)\n",
    "val_target = pd.Series(y_val).value_counts(normalize=True)\n",
    "test_target = pd.Series(y_test).value_counts(normalize=True)\n",
    "\n",
    "sns.barplot(x=train_target.index, y=train_target.values, ax=ax[0])\n",
    "ax[0].set_title('Training Set')\n",
    "ax[0].set_xlabel('Activity')\n",
    "ax[0].set_ylabel('Percentage')\n",
    "\n",
    "sns.barplot(x=val_target.index, y=val_target.values, ax=ax[1])\n",
    "ax[1].set_title('Validation Set')\n",
    "ax[1].set_xlabel('Activity')\n",
    "ax[1].set_ylabel('Percentage')\n",
    "\n",
    "sns.barplot(x=test_target.index, y=test_target.values, ax=ax[2])\n",
    "ax[2].set_title('Test Set')\n",
    "ax[2].set_xlabel('Activity')\n",
    "ax[2].set_ylabel('Percentage')"
   ]
  }
 ],
 "metadata": {
  "kernelspec": {
   "display_name": ".4_venv",
   "language": "python",
   "name": "python3"
  },
  "language_info": {
   "codemirror_mode": {
    "name": "ipython",
    "version": 3
   },
   "file_extension": ".py",
   "mimetype": "text/x-python",
   "name": "python",
   "nbconvert_exporter": "python",
   "pygments_lexer": "ipython3",
   "version": "3.9.6"
  },
  "orig_nbformat": 4,
  "vscode": {
   "interpreter": {
    "hash": "f32d7050664642bc18cc99f2cd4bdc46e6db4b3654dd86a06a9697a1a11bdffa"
   }
  }
 },
 "nbformat": 4,
 "nbformat_minor": 2
}
