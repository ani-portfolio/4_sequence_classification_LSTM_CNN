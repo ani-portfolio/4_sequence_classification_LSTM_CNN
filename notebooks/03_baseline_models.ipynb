{
 "cells": [
  {
   "cell_type": "code",
   "execution_count": 2,
   "metadata": {},
   "outputs": [],
   "source": [
    "# autoreload\n",
    "%load_ext autoreload\n",
    "%autoreload 2\n",
    "\n",
    "# change current working directory to the root of the project\n",
    "import os\n",
    "os.chdir(os.path.dirname(os.getcwd()))"
   ]
  },
  {
   "attachments": {},
   "cell_type": "markdown",
   "metadata": {},
   "source": [
    "# Purpose\n",
    "- Purpose of this notebook is to build baseline models"
   ]
  },
  {
   "cell_type": "code",
   "execution_count": 40,
   "metadata": {},
   "outputs": [],
   "source": [
    "import warnings\n",
    "from IPython.display import display\n",
    "\n",
    "import pandas as pd\n",
    "import numpy as np\n",
    "import matplotlib.pyplot as plt\n",
    "import seaborn as sns\n",
    "\n",
    "from sklearn.metrics import classification_report\n",
    "from sklearn.metrics import roc_curve, auc\n",
    "from sklearn.metrics import brier_score_loss\n",
    "from sklearn.metrics import confusion_matrix"
   ]
  },
  {
   "cell_type": "code",
   "execution_count": 4,
   "metadata": {},
   "outputs": [
    {
     "name": "stderr",
     "output_type": "stream",
     "text": [
      "/var/folders/rx/jl4f7yr95xd03cgb4sg2w99h0000gn/T/ipykernel_2031/4075833985.py:2: MatplotlibDeprecationWarning: The seaborn styles shipped by Matplotlib are deprecated since 3.6, as they no longer correspond to the styles shipped by seaborn. However, they will remain available as 'seaborn-v0_8-<style>'. Alternatively, directly use the seaborn API instead.\n",
      "  plt.style.use(\"seaborn-whitegrid\")\n"
     ]
    }
   ],
   "source": [
    "# Set Matplotlib defaults\n",
    "plt.style.use(\"seaborn-whitegrid\")\n",
    "plt.rc(\"figure\", autolayout=True, figsize=(11, 4))\n",
    "plt.rc(\n",
    "    \"axes\",\n",
    "    labelweight=\"bold\",\n",
    "    labelsize=\"large\",\n",
    "    titleweight=\"bold\",\n",
    "    titlesize=16,\n",
    "    titlepad=10,\n",
    ")\n",
    "plot_params = dict(\n",
    "    color=\"0.75\",\n",
    "    style=\".-\",\n",
    "    markeredgecolor=\"0.25\",\n",
    "    markerfacecolor=\"0.25\",\n",
    ")"
   ]
  },
  {
   "cell_type": "markdown",
   "metadata": {},
   "source": [
    "# Load Data"
   ]
  },
  {
   "cell_type": "code",
   "execution_count": 13,
   "metadata": {},
   "outputs": [
    {
     "data": {
      "text/html": [
       "<div>\n",
       "<style scoped>\n",
       "    .dataframe tbody tr th:only-of-type {\n",
       "        vertical-align: middle;\n",
       "    }\n",
       "\n",
       "    .dataframe tbody tr th {\n",
       "        vertical-align: top;\n",
       "    }\n",
       "\n",
       "    .dataframe thead th {\n",
       "        text-align: right;\n",
       "    }\n",
       "</style>\n",
       "<table border=\"1\" class=\"dataframe\">\n",
       "  <thead>\n",
       "    <tr style=\"text-align: right;\">\n",
       "      <th></th>\n",
       "      <th>2.5717778e-001</th>\n",
       "      <th>-2.3285230e-002</th>\n",
       "      <th>-1.4653762e-002</th>\n",
       "      <th>-9.3840400e-001</th>\n",
       "      <th>-9.2009078e-001</th>\n",
       "      <th>-6.6768331e-001</th>\n",
       "      <th>-9.5250112e-001</th>\n",
       "      <th>-9.2524867e-001</th>\n",
       "      <th>-6.7430222e-001</th>\n",
       "      <th>-8.9408755e-001</th>\n",
       "      <th>...</th>\n",
       "      <th>7.1645446e-002</th>\n",
       "      <th>-3.3037044e-001</th>\n",
       "      <th>-7.0597388e-001</th>\n",
       "      <th>6.4624029e-003</th>\n",
       "      <th>1.6291982e-001</th>\n",
       "      <th>-8.2588562e-001</th>\n",
       "      <th>2.7115145e-001</th>\n",
       "      <th>-7.2000927e-001</th>\n",
       "      <th>2.7680104e-001</th>\n",
       "      <th>-5.7978304e-002</th>\n",
       "    </tr>\n",
       "  </thead>\n",
       "  <tbody>\n",
       "    <tr>\n",
       "      <th>0</th>\n",
       "      <td>0.286027</td>\n",
       "      <td>-0.013163</td>\n",
       "      <td>-0.119083</td>\n",
       "      <td>-0.975415</td>\n",
       "      <td>-0.967458</td>\n",
       "      <td>-0.944958</td>\n",
       "      <td>-0.986799</td>\n",
       "      <td>-0.968401</td>\n",
       "      <td>-0.945823</td>\n",
       "      <td>-0.894088</td>\n",
       "      <td>...</td>\n",
       "      <td>-0.401189</td>\n",
       "      <td>-0.121845</td>\n",
       "      <td>-0.594944</td>\n",
       "      <td>-0.083495</td>\n",
       "      <td>0.017500</td>\n",
       "      <td>-0.434375</td>\n",
       "      <td>0.920593</td>\n",
       "      <td>-0.698091</td>\n",
       "      <td>0.281343</td>\n",
       "      <td>-0.083898</td>\n",
       "    </tr>\n",
       "    <tr>\n",
       "      <th>1</th>\n",
       "      <td>0.275485</td>\n",
       "      <td>-0.026050</td>\n",
       "      <td>-0.118152</td>\n",
       "      <td>-0.993819</td>\n",
       "      <td>-0.969926</td>\n",
       "      <td>-0.962748</td>\n",
       "      <td>-0.994403</td>\n",
       "      <td>-0.970735</td>\n",
       "      <td>-0.963483</td>\n",
       "      <td>-0.939260</td>\n",
       "      <td>...</td>\n",
       "      <td>0.062891</td>\n",
       "      <td>-0.190422</td>\n",
       "      <td>-0.640736</td>\n",
       "      <td>-0.034956</td>\n",
       "      <td>0.202302</td>\n",
       "      <td>0.064103</td>\n",
       "      <td>0.145068</td>\n",
       "      <td>-0.702771</td>\n",
       "      <td>0.280083</td>\n",
       "      <td>-0.079346</td>\n",
       "    </tr>\n",
       "    <tr>\n",
       "      <th>2</th>\n",
       "      <td>0.270298</td>\n",
       "      <td>-0.032614</td>\n",
       "      <td>-0.117520</td>\n",
       "      <td>-0.994743</td>\n",
       "      <td>-0.973268</td>\n",
       "      <td>-0.967091</td>\n",
       "      <td>-0.995274</td>\n",
       "      <td>-0.974471</td>\n",
       "      <td>-0.968897</td>\n",
       "      <td>-0.938610</td>\n",
       "      <td>...</td>\n",
       "      <td>0.116695</td>\n",
       "      <td>-0.344418</td>\n",
       "      <td>-0.736124</td>\n",
       "      <td>-0.017067</td>\n",
       "      <td>0.154438</td>\n",
       "      <td>0.340134</td>\n",
       "      <td>0.296407</td>\n",
       "      <td>-0.698954</td>\n",
       "      <td>0.284114</td>\n",
       "      <td>-0.077108</td>\n",
       "    </tr>\n",
       "    <tr>\n",
       "      <th>3</th>\n",
       "      <td>0.274833</td>\n",
       "      <td>-0.027848</td>\n",
       "      <td>-0.129527</td>\n",
       "      <td>-0.993852</td>\n",
       "      <td>-0.967445</td>\n",
       "      <td>-0.978295</td>\n",
       "      <td>-0.994111</td>\n",
       "      <td>-0.965953</td>\n",
       "      <td>-0.977346</td>\n",
       "      <td>-0.938610</td>\n",
       "      <td>...</td>\n",
       "      <td>-0.121711</td>\n",
       "      <td>-0.534685</td>\n",
       "      <td>-0.846595</td>\n",
       "      <td>-0.002223</td>\n",
       "      <td>-0.040046</td>\n",
       "      <td>0.736715</td>\n",
       "      <td>-0.118545</td>\n",
       "      <td>-0.692245</td>\n",
       "      <td>0.290722</td>\n",
       "      <td>-0.073857</td>\n",
       "    </tr>\n",
       "    <tr>\n",
       "      <th>4</th>\n",
       "      <td>0.279220</td>\n",
       "      <td>-0.018620</td>\n",
       "      <td>-0.113902</td>\n",
       "      <td>-0.994455</td>\n",
       "      <td>-0.970417</td>\n",
       "      <td>-0.965316</td>\n",
       "      <td>-0.994585</td>\n",
       "      <td>-0.969481</td>\n",
       "      <td>-0.965897</td>\n",
       "      <td>-0.937856</td>\n",
       "      <td>...</td>\n",
       "      <td>0.083603</td>\n",
       "      <td>-0.493517</td>\n",
       "      <td>-0.857565</td>\n",
       "      <td>-0.095681</td>\n",
       "      <td>0.048849</td>\n",
       "      <td>0.760684</td>\n",
       "      <td>-0.072216</td>\n",
       "      <td>-0.689816</td>\n",
       "      <td>0.294896</td>\n",
       "      <td>-0.068471</td>\n",
       "    </tr>\n",
       "  </tbody>\n",
       "</table>\n",
       "<p>5 rows × 561 columns</p>\n",
       "</div>"
      ],
      "text/plain": [
       "   2.5717778e-001  -2.3285230e-002  -1.4653762e-002  -9.3840400e-001  \\\n",
       "0        0.286027        -0.013163        -0.119083        -0.975415   \n",
       "1        0.275485        -0.026050        -0.118152        -0.993819   \n",
       "2        0.270298        -0.032614        -0.117520        -0.994743   \n",
       "3        0.274833        -0.027848        -0.129527        -0.993852   \n",
       "4        0.279220        -0.018620        -0.113902        -0.994455   \n",
       "\n",
       "   -9.2009078e-001  -6.6768331e-001  -9.5250112e-001  -9.2524867e-001  \\\n",
       "0        -0.967458        -0.944958        -0.986799        -0.968401   \n",
       "1        -0.969926        -0.962748        -0.994403        -0.970735   \n",
       "2        -0.973268        -0.967091        -0.995274        -0.974471   \n",
       "3        -0.967445        -0.978295        -0.994111        -0.965953   \n",
       "4        -0.970417        -0.965316        -0.994585        -0.969481   \n",
       "\n",
       "   -6.7430222e-001  -8.9408755e-001  ...  7.1645446e-002  -3.3037044e-001  \\\n",
       "0        -0.945823        -0.894088  ...       -0.401189        -0.121845   \n",
       "1        -0.963483        -0.939260  ...        0.062891        -0.190422   \n",
       "2        -0.968897        -0.938610  ...        0.116695        -0.344418   \n",
       "3        -0.977346        -0.938610  ...       -0.121711        -0.534685   \n",
       "4        -0.965897        -0.937856  ...        0.083603        -0.493517   \n",
       "\n",
       "   -7.0597388e-001  6.4624029e-003  1.6291982e-001  -8.2588562e-001  \\\n",
       "0        -0.594944       -0.083495        0.017500        -0.434375   \n",
       "1        -0.640736       -0.034956        0.202302         0.064103   \n",
       "2        -0.736124       -0.017067        0.154438         0.340134   \n",
       "3        -0.846595       -0.002223       -0.040046         0.736715   \n",
       "4        -0.857565       -0.095681        0.048849         0.760684   \n",
       "\n",
       "   2.7115145e-001  -7.2000927e-001  2.7680104e-001  -5.7978304e-002  \n",
       "0        0.920593        -0.698091        0.281343        -0.083898  \n",
       "1        0.145068        -0.702771        0.280083        -0.079346  \n",
       "2        0.296407        -0.698954        0.284114        -0.077108  \n",
       "3       -0.118545        -0.692245        0.290722        -0.073857  \n",
       "4       -0.072216        -0.689816        0.294896        -0.068471  \n",
       "\n",
       "[5 rows x 561 columns]"
      ]
     },
     "metadata": {},
     "output_type": "display_data"
    },
    {
     "data": {
      "text/html": [
       "<div>\n",
       "<style scoped>\n",
       "    .dataframe tbody tr th:only-of-type {\n",
       "        vertical-align: middle;\n",
       "    }\n",
       "\n",
       "    .dataframe tbody tr th {\n",
       "        vertical-align: top;\n",
       "    }\n",
       "\n",
       "    .dataframe thead th {\n",
       "        text-align: right;\n",
       "    }\n",
       "</style>\n",
       "<table border=\"1\" class=\"dataframe\">\n",
       "  <thead>\n",
       "    <tr style=\"text-align: right;\">\n",
       "      <th></th>\n",
       "      <th>activity</th>\n",
       "    </tr>\n",
       "  </thead>\n",
       "  <tbody>\n",
       "    <tr>\n",
       "      <th>0</th>\n",
       "      <td>5</td>\n",
       "    </tr>\n",
       "    <tr>\n",
       "      <th>1</th>\n",
       "      <td>5</td>\n",
       "    </tr>\n",
       "    <tr>\n",
       "      <th>2</th>\n",
       "      <td>5</td>\n",
       "    </tr>\n",
       "    <tr>\n",
       "      <th>3</th>\n",
       "      <td>5</td>\n",
       "    </tr>\n",
       "    <tr>\n",
       "      <th>4</th>\n",
       "      <td>5</td>\n",
       "    </tr>\n",
       "  </tbody>\n",
       "</table>\n",
       "</div>"
      ],
      "text/plain": [
       "   activity\n",
       "0         5\n",
       "1         5\n",
       "2         5\n",
       "3         5\n",
       "4         5"
      ]
     },
     "metadata": {},
     "output_type": "display_data"
    }
   ],
   "source": [
    "nrows = None\n",
    "X_train = pd.read_csv(\"data/transformed/X_train.csv\", nrows=nrows)\n",
    "X_test = pd.read_fwf(\"data/transformed/X_test.txt\", nrows=nrows)\n",
    "\n",
    "y_train = pd.read_csv(\"data/transformed/y_train.csv\", nrows=nrows)\n",
    "y_train = y_train.rename(columns={\"5\": \"activity\"})\n",
    "y_test = pd.read_fwf(\"data/transformed/y_test.txt\", nrows=nrows)\n",
    "y_test = y_test.rename(columns={\"5\": \"activity\"})\n",
    "\n",
    "display(X_test.head())\n",
    "display(y_test.head())"
   ]
  },
  {
   "cell_type": "markdown",
   "metadata": {},
   "source": [
    "# Baseline Model 1\n",
    "- Zero-Rate Model\n",
    "- Predcit the most frequent class"
   ]
  },
  {
   "cell_type": "code",
   "execution_count": 15,
   "metadata": {},
   "outputs": [],
   "source": [
    "class BaselineModelZeroR:\n",
    "    '''ZeroR baseline model that always predicts the most frequent class'''\n",
    "    \n",
    "    def fit(self, X_train: pd.DataFrame, y_train: pd.Series):\n",
    "        pass\n",
    "        \n",
    "    def predict(self, X: pd.DataFrame, y: pd.DataFrame) -> pd.DataFrame:\n",
    "\n",
    "        # merge X and y on index\n",
    "        df = X.merge(y, left_index=True, right_index=True)\n",
    "\n",
    "        # get the most frequent class\n",
    "        most_frequent_class = df['activity'].value_counts().index[0]\n",
    "\n",
    "        # create predictions\n",
    "        predictions = [most_frequent_class] * len(df)\n",
    "\n",
    "        return np.array(predictions)"
   ]
  },
  {
   "cell_type": "code",
   "execution_count": 16,
   "metadata": {},
   "outputs": [],
   "source": [
    "model = BaselineModelZeroR()\n",
    "model.fit(X_train, y_train)\n",
    "predictions_baseline_model_1 = model.predict(X_test, y_test)"
   ]
  },
  {
   "cell_type": "code",
   "execution_count": 42,
   "metadata": {},
   "outputs": [
    {
     "name": "stdout",
     "output_type": "stream",
     "text": [
      "Classification Report\n",
      "---------------------\n",
      "              precision    recall  f1-score   support\n",
      "\n",
      "           1       0.00      0.00      0.00       496\n",
      "           2       0.00      0.00      0.00       471\n",
      "           3       0.00      0.00      0.00       420\n",
      "           4       0.00      0.00      0.00       491\n",
      "           5       0.00      0.00      0.00       531\n",
      "           6       0.18      1.00      0.31       537\n",
      "\n",
      "    accuracy                           0.18      2946\n",
      "   macro avg       0.03      0.17      0.05      2946\n",
      "weighted avg       0.03      0.18      0.06      2946\n",
      "\n"
     ]
    },
    {
     "name": "stderr",
     "output_type": "stream",
     "text": [
      "/Users/ani/Projects/4_conformal_prediction_using_LSTM/.4_venv/lib/python3.9/site-packages/sklearn/metrics/_classification.py:1344: UndefinedMetricWarning: Precision and F-score are ill-defined and being set to 0.0 in labels with no predicted samples. Use `zero_division` parameter to control this behavior.\n",
      "  _warn_prf(average, modifier, msg_start, len(result))\n",
      "/Users/ani/Projects/4_conformal_prediction_using_LSTM/.4_venv/lib/python3.9/site-packages/sklearn/metrics/_classification.py:1344: UndefinedMetricWarning: Precision and F-score are ill-defined and being set to 0.0 in labels with no predicted samples. Use `zero_division` parameter to control this behavior.\n",
      "  _warn_prf(average, modifier, msg_start, len(result))\n",
      "/Users/ani/Projects/4_conformal_prediction_using_LSTM/.4_venv/lib/python3.9/site-packages/sklearn/metrics/_classification.py:1344: UndefinedMetricWarning: Precision and F-score are ill-defined and being set to 0.0 in labels with no predicted samples. Use `zero_division` parameter to control this behavior.\n",
      "  _warn_prf(average, modifier, msg_start, len(result))\n"
     ]
    },
    {
     "data": {
      "image/png": "[encoded data removed]",
      "text/plain": [
       "<Figure size 1100x400 with 2 Axes>"
      ]
     },
     "metadata": {},
     "output_type": "display_data"
    }
   ],
   "source": [
    "# create confusion matrix for multiclass classification\n",
    "cm = confusion_matrix(y_test, predictions_baseline_model_1)\n",
    "cm = pd.DataFrame(cm, columns=['0', '1', '2', '3', '4', '5'], index=['0', '1', '2', '3', '4', '5'])\n",
    "\n",
    "# classification report\n",
    "print('Classification Report')\n",
    "print('---------------------')\n",
    "print(classification_report(y_test, predictions_baseline_model_1))\n",
    "\n",
    "# plot confusion matrix\n",
    "sns.heatmap(cm, annot=True, fmt='d', cmap='Blues')\n",
    "plt.title('Confusion Matrix')\n",
    "plt.ylabel('True Label')\n",
    "plt.xlabel('Predicted Label')\n",
    "plt.show()\n"
   ]
  },
  {
   "cell_type": "markdown",
   "metadata": {},
   "source": [
    "# Baseline Model 2\n",
    "- Random-Rate Model\n",
    "- Predicts a random class with the same probability as the most frequent class"
   ]
  },
  {
   "cell_type": "code",
   "execution_count": 44,
   "metadata": {},
   "outputs": [],
   "source": [
    "class BaselineModelRandom:\n",
    "    '''Random baseline model that randomly predicts 0 or 1 based on the distribution of the training set'''\n",
    "\n",
    "    def fit(self, X_train: pd.DataFrame, y_train: pd.Series):\n",
    "        pass\n",
    "        \n",
    "    def predict(self, X: pd.DataFrame, y: pd.DataFrame) -> pd.DataFrame:\n",
    "\n",
    "        # merge X and y on index\n",
    "        df = X.merge(y, left_index=True, right_index=True)\n",
    "\n",
    "        # get the distribution of the training set\n",
    "        distribution = df['activity'].value_counts(normalize=True)\n",
    "\n",
    "        # create predictions\n",
    "        predictions = np.random.choice(distribution.index, size=len(df), p=distribution.values)\n",
    "\n",
    "        return np.array(predictions)"
   ]
  },
  {
   "cell_type": "code",
   "execution_count": 46,
   "metadata": {},
   "outputs": [],
   "source": [
    "model = BaselineModelRandom()\n",
    "model.fit(X_train, y_train)\n",
    "predictions_baseline_model_2 = model.predict(X_test, y_test)"
   ]
  },
  {
   "cell_type": "code",
   "execution_count": 47,
   "metadata": {},
   "outputs": [
    {
     "name": "stdout",
     "output_type": "stream",
     "text": [
      "Classification Report\n",
      "---------------------\n",
      "              precision    recall  f1-score   support\n",
      "\n",
      "           1       0.15      0.15      0.15       496\n",
      "           2       0.17      0.17      0.17       471\n",
      "           3       0.14      0.14      0.14       420\n",
      "           4       0.17      0.18      0.18       491\n",
      "           5       0.15      0.15      0.15       531\n",
      "           6       0.20      0.20      0.20       537\n",
      "\n",
      "    accuracy                           0.16      2946\n",
      "   macro avg       0.16      0.16      0.16      2946\n",
      "weighted avg       0.16      0.16      0.16      2946\n",
      "\n"
     ]
    },
    {
     "data": {
      "image/png": "[encoded data removed]",
      "text/plain": [
       "<Figure size 1100x400 with 2 Axes>"
      ]
     },
     "metadata": {},
     "output_type": "display_data"
    }
   ],
   "source": [
    "# create confusion matrix for multiclass classification as percentage\n",
    "cm = confusion_matrix(y_test, predictions_baseline_model_2)\n",
    "\n",
    "group_percentages = ['{0:.2%}'.format(value) for value in cm.flatten()/np.sum(cm)]\n",
    "labels = [v1 for v1 in zip(group_percentages)]\n",
    "labels = np.asarray(labels).reshape(6,6)\n",
    "\n",
    "# classification report\n",
    "print('Classification Report')\n",
    "print('---------------------')\n",
    "print(classification_report(y_test, predictions_baseline_model_2))\n",
    "\n",
    "# plot confusion matrix\n",
    "sns.heatmap(cm, annot=labels, fmt='', cmap='Blues')\n",
    "plt.title('Confusion Matrix')\n",
    "plt.ylabel('True Label')\n",
    "plt.xlabel('Predicted Label')\n",
    "plt.show()"
   ]
  },
  {
   "cell_type": "code",
   "execution_count": 48,
   "metadata": {},
   "outputs": [],
   "source": [
    "# save predictions\n",
    "pd.DataFrame(predictions_baseline_model_2).to_csv(\"predictions/predictions_baseline_model_2.csv\", index=False)\n",
    "\n",
    "# save predictions\n",
    "pd.DataFrame(predictions_baseline_model_1).to_csv(\"predictions/predictions_baseline_model_1.csv\", index=False)\n"
   ]
  }
 ],
 "metadata": {
  "kernelspec": {
   "display_name": ".4_venv",
   "language": "python",
   "name": "python3"
  },
  "language_info": {
   "codemirror_mode": {
    "name": "ipython",
    "version": 3
   },
   "file_extension": ".py",
   "mimetype": "text/x-python",
   "name": "python",
   "nbconvert_exporter": "python",
   "pygments_lexer": "ipython3",
   "version": "3.9.6"
  },
  "orig_nbformat": 4,
  "vscode": {
   "interpreter": {
    "hash": "f32d7050664642bc18cc99f2cd4bdc46e6db4b3654dd86a06a9697a1a11bdffa"
   }
  }
 },
 "nbformat": 4,
 "nbformat_minor": 2
}
