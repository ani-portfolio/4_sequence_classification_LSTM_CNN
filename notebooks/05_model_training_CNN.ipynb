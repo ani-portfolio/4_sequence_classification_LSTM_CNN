{
 "cells": [
  {
   "cell_type": "code",
   "execution_count": 1,
   "metadata": {},
   "outputs": [],
   "source": [
    "# autoreload\n",
    "%load_ext autoreload\n",
    "%autoreload 2\n",
    "\n",
    "# change current working directory to the root of the project\n",
    "import os\n",
    "os.chdir(os.path.dirname(os.getcwd()))"
   ]
  },
  {
   "attachments": {},
   "cell_type": "markdown",
   "metadata": {},
   "source": [
    "# Purpose\n",
    "- Purpose of this notebook is to train an CNN model"
   ]
  },
  {
   "cell_type": "code",
   "execution_count": 2,
   "metadata": {},
   "outputs": [],
   "source": [
    "import warnings\n",
    "import gc\n",
    "from IPython.display import display\n",
    "import joblib\n",
    "\n",
    "import pandas as pd\n",
    "import numpy as np\n",
    "import optuna\n",
    "\n",
    "from tensorflow.keras.models import Sequential\n",
    "from tensorflow.keras.layers import Dense, Dropout, Flatten, Conv1D, MaxPooling1D\n",
    "from tensorflow.keras.callbacks import EarlyStopping\n",
    "from tensorflow.keras.backend import clear_session"
   ]
  },
  {
   "cell_type": "markdown",
   "metadata": {},
   "source": [
    "# Load Data"
   ]
  },
  {
   "cell_type": "code",
   "execution_count": 3,
   "metadata": {},
   "outputs": [
    {
     "name": "stdout",
     "output_type": "stream",
     "text": [
      "X_train.shape=(31225, 80, 3)\n",
      "y_train.shape=(31225,)\n",
      "X_test.shape=(13181, 80, 3)\n",
      "y_test.shape=(13181,)\n"
     ]
    }
   ],
   "source": [
    "# load data using joblib\n",
    "X_train = joblib.load(\"data/transformed/X_train.pkl\")\n",
    "X_val = joblib.load(\"data/transformed/X_val.pkl\")\n",
    "X_test = joblib.load(\"data/transformed/X_test.pkl\")\n",
    "\n",
    "y_train = joblib.load(\"data/transformed/y_train.pkl\")\n",
    "y_val = joblib.load(\"data/transformed/y_val.pkl\")\n",
    "y_test = joblib.load(\"data/transformed/y_test.pkl\")\n",
    "\n",
    "print(f'{X_train.shape=}')\n",
    "print(f'{y_train.shape=}')\n",
    "print(f'{X_test.shape=}')\n",
    "print(f'{y_test.shape=}')"
   ]
  },
  {
   "cell_type": "markdown",
   "metadata": {},
   "source": [
    "# Define model"
   ]
  },
  {
   "cell_type": "code",
   "execution_count": 4,
   "metadata": {},
   "outputs": [],
   "source": [
    "def cnn_model(**params):\n",
    "\n",
    "    # define model architecture\n",
    "    model = Sequential()\n",
    "\n",
    "    model.add(Conv1D(filters=params['filters'], kernel_size=3, activation='relu', input_shape=(params['timesteps'], params['n_features'])))\n",
    "\n",
    "    # model.add(Conv1D(filters=params['filters'], kernel_size=3, activation='relu'))\n",
    "\n",
    "    model.add(Dropout(params[\"dropout\"]))\n",
    "\n",
    "    model.add(MaxPooling1D(pool_size=2))\n",
    "\n",
    "    model.add(Flatten())\n",
    "\n",
    "    model.add(Dense(units=params[\"units\"], activation='relu'))\n",
    "\n",
    "    model.add(Dense(params['n_classes'], activation='softmax'))\n",
    "\n",
    "    model.compile(\n",
    "        loss='sparse_categorical_crossentropy',\n",
    "        optimizer='adam',\n",
    "        metrics=['sparse_categorical_accuracy'])\n",
    "    \n",
    "    return model"
   ]
  },
  {
   "cell_type": "markdown",
   "metadata": {},
   "source": [
    "# Hyper-parameter Tuning"
   ]
  },
  {
   "cell_type": "code",
   "execution_count": 5,
   "metadata": {},
   "outputs": [],
   "source": [
    "def objective(trial: optuna.trial.Trial) -> float:\n",
    "    '''Takes in hyperparameters as input, and trains a model that computes accuracy on the validation set.'''\n",
    "    \n",
    "    clear_session()\n",
    "\n",
    "    # define hyperparameters\n",
    "    params = {\n",
    "        \"timesteps\": trial.suggest_categorical(\"timesteps\", [X_train.shape[1]]),\n",
    "        \"n_features\": trial.suggest_categorical(\"n_features\", [X_train.shape[2]]),\n",
    "        \"n_classes\": trial.suggest_categorical(\"n_classes\", [len(np.unique(y_train))]),\n",
    "        \"filters\": trial.suggest_categorical(\"filters\", [128, 128*2, 128*3, 128*4, 128*5]),\n",
    "        \"units\": trial.suggest_categorical(\"units\", [128, 128*2, 128*3, 128*4, 128*5]),\n",
    "        \"dropout\": trial.suggest_uniform(\"dropout\", 0.0, 0.5),\n",
    "        \"batch_size\": trial.suggest_categorical(\"batch_size\", [32]),\n",
    "        \"epochs\": trial.suggest_categorical(\"epochs\", [100]),\n",
    "        \"patience\": trial.suggest_categorical(\"patience\", [10])}\n",
    "    \n",
    "    # define early stopping\n",
    "    early_stop = EarlyStopping(monitor='val_loss',patience=params['patience'])\n",
    "\n",
    "    model = cnn_model(**params)\n",
    "        \n",
    "    # fit model\n",
    "    model.fit(\n",
    "        X_train,\n",
    "        y_train,\n",
    "        epochs=params['epochs'],\n",
    "        batch_size=params['batch_size'],\n",
    "        validation_data=(X_val, y_val),\n",
    "        shuffle=False,\n",
    "        callbacks=[early_stop],\n",
    "        verbose=False,\n",
    "    )\n",
    "\n",
    "    # compute validation error\n",
    "    score = model.evaluate(X_val, y_val, verbose=0)\n",
    "    \n",
    "    return score[1]"
   ]
  },
  {
   "cell_type": "code",
   "execution_count": 6,
   "metadata": {},
   "outputs": [
    {
     "name": "stderr",
     "output_type": "stream",
     "text": [
      "\u001b[32m[I 2023-04-08 10:17:44,516]\u001b[0m A new study created in memory with name: cnn\u001b[0m\n",
      "2023-04-08 10:17:44.682990: W tensorflow/core/platform/profile_utils/cpu_utils.cc:128] Failed to get CPU frequency: 0 Hz\n"
     ]
    },
    {
     "name": "stdout",
     "output_type": "stream",
     "text": [
      "Metal device set to: Apple M1 Pro\n",
      "\n",
      "systemMemory: 16.00 GB\n",
      "maxCacheSize: 5.33 GB\n",
      "\n"
     ]
    },
    {
     "name": "stderr",
     "output_type": "stream",
     "text": [
      "\u001b[32m[I 2023-04-08 10:21:37,651]\u001b[0m Trial 0 finished with value: 0.7589665651321411 and parameters: {'timesteps': 80, 'n_features': 3, 'n_classes': 6, 'filters': 128, 'units': 256, 'dropout': 0.38778628685796945, 'batch_size': 32, 'epochs': 100, 'patience': 10}. Best is trial 0 with value: 0.7589665651321411.\u001b[0m\n",
      "\u001b[32m[I 2023-04-08 10:27:50,136]\u001b[0m Trial 1 finished with value: 0.7169199585914612 and parameters: {'timesteps': 80, 'n_features': 3, 'n_classes': 6, 'filters': 128, 'units': 512, 'dropout': 0.22492770442266596, 'batch_size': 32, 'epochs': 100, 'patience': 10}. Best is trial 0 with value: 0.7589665651321411.\u001b[0m\n",
      "\u001b[32m[I 2023-04-08 10:41:57,819]\u001b[0m Trial 2 finished with value: 0.6818642616271973 and parameters: {'timesteps': 80, 'n_features': 3, 'n_classes': 6, 'filters': 640, 'units': 384, 'dropout': 0.1817924276398199, 'batch_size': 32, 'epochs': 100, 'patience': 10}. Best is trial 0 with value: 0.7589665651321411.\u001b[0m\n",
      "\u001b[32m[I 2023-04-08 10:52:39,046]\u001b[0m Trial 3 finished with value: 0.7567375898361206 and parameters: {'timesteps': 80, 'n_features': 3, 'n_classes': 6, 'filters': 384, 'units': 384, 'dropout': 0.12450905150688546, 'batch_size': 32, 'epochs': 100, 'patience': 10}. Best is trial 0 with value: 0.7589665651321411.\u001b[0m\n",
      "\u001b[32m[I 2023-04-08 11:07:40,415]\u001b[0m Trial 4 finished with value: 0.729179322719574 and parameters: {'timesteps': 80, 'n_features': 3, 'n_classes': 6, 'filters': 640, 'units': 512, 'dropout': 0.35413847206103644, 'batch_size': 32, 'epochs': 100, 'patience': 10}. Best is trial 0 with value: 0.7589665651321411.\u001b[0m\n"
     ]
    }
   ],
   "source": [
    "warnings.filterwarnings('ignore')\n",
    "\n",
    "# optuna study\n",
    "study = optuna.create_study(direction=\"maximize\", study_name=\"cnn\")\n",
    "study.optimize(objective, n_trials=5)"
   ]
  },
  {
   "cell_type": "code",
   "execution_count": 12,
   "metadata": {},
   "outputs": [],
   "source": [
    "# # print best parameters\n",
    "# best_params = study.best_trial.params"
   ]
  },
  {
   "cell_type": "code",
   "execution_count": 10,
   "metadata": {},
   "outputs": [
    {
     "data": {
      "text/plain": [
       "['models/best_params_cnn.pkl']"
      ]
     },
     "execution_count": 10,
     "metadata": {},
     "output_type": "execute_result"
    }
   ],
   "source": [
    "# # save best parameters\n",
    "# joblib.dump(best_params, \"models/best_params_cnn.pkl\")"
   ]
  },
  {
   "cell_type": "code",
   "execution_count": 5,
   "metadata": {},
   "outputs": [
    {
     "name": "stdout",
     "output_type": "stream",
     "text": [
      "timesteps : 80\n",
      "n_features : 3\n",
      "n_classes : 6\n",
      "filters : 128\n",
      "units : 256\n",
      "dropout : 0.38778628685796945\n",
      "batch_size : 32\n",
      "epochs : 100\n",
      "patience : 10\n"
     ]
    }
   ],
   "source": [
    "# load best parameters\n",
    "best_params = joblib.load(\"models/best_params_cnn.pkl\")\n",
    "for each in best_params:\n",
    "    print(f'{each} : {best_params[each]}')"
   ]
  },
  {
   "cell_type": "markdown",
   "metadata": {},
   "source": [
    "# Fit model with best parameters"
   ]
  },
  {
   "cell_type": "code",
   "execution_count": 6,
   "metadata": {},
   "outputs": [
    {
     "name": "stdout",
     "output_type": "stream",
     "text": [
      "Metal device set to: Apple M1 Pro\n",
      "\n",
      "systemMemory: 16.00 GB\n",
      "maxCacheSize: 5.33 GB\n",
      "\n"
     ]
    },
    {
     "name": "stderr",
     "output_type": "stream",
     "text": [
      "2023-04-10 06:12:43.760579: W tensorflow/core/platform/profile_utils/cpu_utils.cc:128] Failed to get CPU frequency: 0 Hz\n"
     ]
    },
    {
     "data": {
      "text/plain": [
       "<keras.callbacks.History at 0x288bc6b50>"
      ]
     },
     "execution_count": 6,
     "metadata": {},
     "output_type": "execute_result"
    }
   ],
   "source": [
    "clear_session()\n",
    "\n",
    "# define early stopping\n",
    "early_stop = EarlyStopping(monitor='val_loss',patience=best_params['patience'])\n",
    "\n",
    "best_model = cnn_model(**best_params)\n",
    "    \n",
    "# fit model\n",
    "best_model.fit(\n",
    "    X_train,\n",
    "    y_train,\n",
    "    epochs=best_params['epochs'],\n",
    "    batch_size=best_params['batch_size'],\n",
    "    validation_data=(X_val, y_val),\n",
    "    shuffle=False,\n",
    "    callbacks=[early_stop],\n",
    "    verbose=False,\n",
    ")"
   ]
  },
  {
   "cell_type": "code",
   "execution_count": 7,
   "metadata": {},
   "outputs": [
    {
     "name": "stdout",
     "output_type": "stream",
     "text": [
      "Model: \"sequential\"\n",
      "_________________________________________________________________\n",
      " Layer (type)                Output Shape              Param #   \n",
      "=================================================================\n",
      " conv1d (Conv1D)             (None, 78, 128)           1280      \n",
      "                                                                 \n",
      " dropout (Dropout)           (None, 78, 128)           0         \n",
      "                                                                 \n",
      " max_pooling1d (MaxPooling1D  (None, 39, 128)          0         \n",
      " )                                                               \n",
      "                                                                 \n",
      " flatten (Flatten)           (None, 4992)              0         \n",
      "                                                                 \n",
      " dense (Dense)               (None, 256)               1278208   \n",
      "                                                                 \n",
      " dense_1 (Dense)             (None, 6)                 1542      \n",
      "                                                                 \n",
      "=================================================================\n",
      "Total params: 1,281,030\n",
      "Trainable params: 1,281,030\n",
      "Non-trainable params: 0\n",
      "_________________________________________________________________\n"
     ]
    }
   ],
   "source": [
    "best_model.summary()"
   ]
  },
  {
   "cell_type": "code",
   "execution_count": 8,
   "metadata": {},
   "outputs": [
    {
     "data": {
      "text/plain": [
       "<Axes: >"
      ]
     },
     "execution_count": 8,
     "metadata": {},
     "output_type": "execute_result"
    },
    {
     "data": {
      "image/png": "[encoded data removed]",
      "text/plain": [
       "<Figure size 640x480 with 1 Axes>"
      ]
     },
     "metadata": {},
     "output_type": "display_data"
    }
   ],
   "source": [
    "losses = pd.DataFrame(best_model.history.history)\n",
    "losses[['loss', 'val_loss']].plot()"
   ]
  },
  {
   "cell_type": "code",
   "execution_count": 9,
   "metadata": {},
   "outputs": [
    {
     "data": {
      "text/plain": [
       "<Axes: >"
      ]
     },
     "execution_count": 9,
     "metadata": {},
     "output_type": "execute_result"
    },
    {
     "data": {
      "image/png": "[encoded data removed]",
      "text/plain": [
       "<Figure size 640x480 with 1 Axes>"
      ]
     },
     "metadata": {},
     "output_type": "display_data"
    }
   ],
   "source": [
    "accuracy = pd.DataFrame(best_model.history.history)\n",
    "accuracy[['sparse_categorical_accuracy', 'val_sparse_categorical_accuracy']].plot()"
   ]
  },
  {
   "cell_type": "code",
   "execution_count": 10,
   "metadata": {},
   "outputs": [
    {
     "name": "stdout",
     "output_type": "stream",
     "text": [
      "Test loss: 1.057865858078003 / Test accuracy: 0.6776420474052429\n"
     ]
    }
   ],
   "source": [
    "# Evaluate the model accuracy on the test set.\n",
    "score = best_model.evaluate(X_test, y_test, verbose=0)\n",
    "print(f'Test loss: {score[0]} / Test accuracy: {score[1]}')"
   ]
  },
  {
   "cell_type": "markdown",
   "metadata": {},
   "source": [
    "# Save Predictions & model"
   ]
  },
  {
   "cell_type": "code",
   "execution_count": 11,
   "metadata": {},
   "outputs": [
    {
     "name": "stderr",
     "output_type": "stream",
     "text": [
      "WARNING:absl:Found untraced functions such as _jit_compiled_convolution_op while saving (showing 1 of 1). These functions will not be directly callable after loading.\n"
     ]
    },
    {
     "name": "stdout",
     "output_type": "stream",
     "text": [
      "INFO:tensorflow:Assets written to: ram://e82c607d-f948-4bb3-8073-a6830f65ca09/assets\n"
     ]
    },
    {
     "name": "stderr",
     "output_type": "stream",
     "text": [
      "INFO:tensorflow:Assets written to: ram://e82c607d-f948-4bb3-8073-a6830f65ca09/assets\n"
     ]
    },
    {
     "data": {
      "text/plain": [
       "['models/cnn_model.pkl']"
      ]
     },
     "execution_count": 11,
     "metadata": {},
     "output_type": "execute_result"
    }
   ],
   "source": [
    "# save the model using joblib\n",
    "joblib.dump(best_model, \"models/model_cnn.pkl\")"
   ]
  },
  {
   "cell_type": "code",
   "execution_count": 12,
   "metadata": {},
   "outputs": [
    {
     "name": "stdout",
     "output_type": "stream",
     "text": [
      "412/412 [==============================] - 1s 2ms/step\n"
     ]
    }
   ],
   "source": [
    "# save predictions\n",
    "y_pred = best_model.predict(X_test)\n",
    "y_pred = np.argmax(y_pred, axis=1)\n",
    "\n",
    "y_pred = pd.DataFrame(y_pred, columns=[\"predicted_activity\"])\n",
    "y_pred.to_csv(\"predictions/predictions_cnn.csv\", index=False)"
   ]
  },
  {
   "cell_type": "code",
   "execution_count": null,
   "metadata": {},
   "outputs": [],
   "source": [
    "# https://link.springer.com/article/10.1007/s11370-021-00358-7 (CNN + LSTM)\n",
    "# https://ieeexplore.ieee.org/document/7881728 (CNN)\n",
    "# https://medium.com/@tanmaychauhan111/human-activity-recognition-using-lstm-cnn-8ccb1a42cb81\n",
    "# user mcnemars test to compare models\n",
    "# http://alexlenail.me/NN-SVG/LeNet.html (neural network diagram)\n",
    "# https://www.researchgate.net/figure/The-architecture-of-1D-deep-convolutional-neural-network-for-fold-classification-The_fig1_327213391\n",
    "# https://www.kaggle.com/code/sylvianclee/human-activity-recognition-cnn-lstm"
   ]
  }
 ],
 "metadata": {
  "kernelspec": {
   "display_name": ".3_venv",
   "language": "python",
   "name": "python3"
  },
  "language_info": {
   "codemirror_mode": {
    "name": "ipython",
    "version": 3
   },
   "file_extension": ".py",
   "mimetype": "text/x-python",
   "name": "python",
   "nbconvert_exporter": "python",
   "pygments_lexer": "ipython3",
   "version": "3.9.6"
  },
  "orig_nbformat": 4
 },
 "nbformat": 4,
 "nbformat_minor": 2
}
