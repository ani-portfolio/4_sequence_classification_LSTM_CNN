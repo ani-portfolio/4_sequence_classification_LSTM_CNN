{
 "cells": [
  {
   "cell_type": "code",
   "execution_count": 1,
   "metadata": {},
   "outputs": [],
   "source": [
    "# autoreload\n",
    "%load_ext autoreload\n",
    "%autoreload 2\n",
    "\n",
    "# change current working directory to the root of the project\n",
    "import os\n",
    "os.chdir(os.path.dirname(os.getcwd()))"
   ]
  },
  {
   "attachments": {},
   "cell_type": "markdown",
   "metadata": {},
   "source": [
    "# Purpose\n",
    "- Purpose of this notebook is to train an CNN & LSTM model"
   ]
  },
  {
   "cell_type": "code",
   "execution_count": 2,
   "metadata": {},
   "outputs": [],
   "source": [
    "import warnings\n",
    "from IPython.display import display\n",
    "import joblib\n",
    "\n",
    "import pandas as pd\n",
    "import numpy as np\n",
    "\n",
    "import optuna\n",
    "\n",
    "from tensorflow.keras.models import Sequential\n",
    "from tensorflow.keras.layers import Dense, LSTM, Dropout, Flatten, Bidirectional, Conv1D, MaxPooling1D, TimeDistributed\n",
    "from tensorflow.keras.callbacks import EarlyStopping\n",
    "from tensorflow.keras.backend import clear_session"
   ]
  },
  {
   "cell_type": "markdown",
   "metadata": {},
   "source": [
    "# Load Data"
   ]
  },
  {
   "cell_type": "code",
   "execution_count": 3,
   "metadata": {},
   "outputs": [
    {
     "name": "stdout",
     "output_type": "stream",
     "text": [
      "X_train.shape=(31225, 80, 3)\n",
      "y_train.shape=(31225,)\n",
      "X_test.shape=(13181, 80, 3)\n",
      "y_test.shape=(13181,)\n"
     ]
    }
   ],
   "source": [
    "# load data using joblib\n",
    "X_train = joblib.load(\"data/transformed/X_train.pkl\")\n",
    "X_val = joblib.load(\"data/transformed/X_val.pkl\")\n",
    "X_test = joblib.load(\"data/transformed/X_test.pkl\")\n",
    "\n",
    "y_train = joblib.load(\"data/transformed/y_train.pkl\")\n",
    "y_val = joblib.load(\"data/transformed/y_val.pkl\")\n",
    "y_test = joblib.load(\"data/transformed/y_test.pkl\")\n",
    "\n",
    "print(f'{X_train.shape=}')\n",
    "print(f'{y_train.shape=}')\n",
    "print(f'{X_test.shape=}')\n",
    "print(f'{y_test.shape=}')"
   ]
  },
  {
   "cell_type": "markdown",
   "metadata": {},
   "source": [
    "# Define model"
   ]
  },
  {
   "cell_type": "code",
   "execution_count": 4,
   "metadata": {},
   "outputs": [],
   "source": [
    "def cnn_lstm_model(**params):\n",
    "\n",
    "    # define model architecture\n",
    "    model = Sequential()\n",
    "\n",
    "    model.add(Conv1D(filters=params['filters'], kernel_size=3, activation='relu', input_shape=(params['timesteps'], params['n_features'])))\n",
    "    \n",
    "    model.add(MaxPooling1D(pool_size=2))\n",
    "\n",
    "    model.add(Dropout(params[\"dropout\"]))\n",
    "\n",
    "    # model.add(Conv1D(filters=params['filters'], kernel_size=3, activation='relu'))\n",
    "\n",
    "    # model.add(MaxPooling1D(pool_size=2))\n",
    "\n",
    "    # model.add(Dropout(params[\"dropout\"]))\n",
    "\n",
    "    model.add(TimeDistributed(Flatten()))\n",
    "\n",
    "    model.add(\n",
    "        Bidirectional(\n",
    "        LSTM(\n",
    "        units=params[\"units\"],\n",
    "        # return_sequences=True,\n",
    "        input_shape=(params['timesteps'], params['n_features']))))\n",
    "\n",
    "    # model.add(\n",
    "    #     Bidirectional(\n",
    "    #     LSTM(\n",
    "    #     units=params[\"units\"])))\n",
    "\n",
    "    model.add(Dropout(params[\"dropout\"]))\n",
    "\n",
    "    model.add(Dense(units=params[\"units\"], activation='relu'))\n",
    "\n",
    "    model.add(Dense(params['n_classes'], activation='softmax'))\n",
    "\n",
    "    # compile model\n",
    "    model.compile(\n",
    "        loss=\"sparse_categorical_crossentropy\",\n",
    "        optimizer='adam',\n",
    "        metrics=[\"sparse_categorical_accuracy\"])\n",
    "    \n",
    "    return model"
   ]
  },
  {
   "cell_type": "markdown",
   "metadata": {},
   "source": [
    "# Hyper-parameter Tuning"
   ]
  },
  {
   "cell_type": "code",
   "execution_count": 5,
   "metadata": {},
   "outputs": [],
   "source": [
    "def objective(trial: optuna.trial.Trial) -> float:\n",
    "    '''Takes in hyperparameters as input, and trains a model that computes accuracy on the validation set.'''\n",
    "    \n",
    "    clear_session()\n",
    "\n",
    "    # define hyperparameters\n",
    "    params = {\n",
    "        \"timesteps\": trial.suggest_categorical(\"timesteps\", [X_train.shape[1]]),\n",
    "        \"n_features\": trial.suggest_categorical(\"n_features\", [X_train.shape[2]]),\n",
    "        \"n_classes\": trial.suggest_categorical(\"n_classes\", [len(np.unique(y_train))]),\n",
    "        \"filters\": trial.suggest_categorical(\"filters\", [128, 128*2, 128*3, 128*4, 128*5]),\n",
    "        \"units\": trial.suggest_categorical(\"units\", [128, 128*2, 128*3, 128*4, 128*5]),\n",
    "        \"dropout\": trial.suggest_uniform(\"dropout\", 0.0, 0.5),\n",
    "        \"batch_size\": trial.suggest_categorical(\"batch_size\", [32]),\n",
    "        \"epochs\": trial.suggest_categorical(\"epochs\", [100]),\n",
    "        \"patience\": trial.suggest_categorical(\"patience\", [15])}\n",
    "    \n",
    "    # define early stopping\n",
    "    early_stop = EarlyStopping(monitor='val_loss',patience=params['patience'])\n",
    "\n",
    "    model = cnn_lstm_model(**params)\n",
    "        \n",
    "    # fit model\n",
    "    model.fit(\n",
    "        X_train,\n",
    "        y_train,\n",
    "        epochs=params['epochs'],\n",
    "        batch_size=params['batch_size'],\n",
    "        validation_data=(X_val, y_val),\n",
    "        shuffle=False,\n",
    "        callbacks=[early_stop],\n",
    "        verbose=False,\n",
    "    )\n",
    "\n",
    "    # compute validation error\n",
    "    score = model.evaluate(X_val, y_val, verbose=0)\n",
    "    \n",
    "    return score[1]"
   ]
  },
  {
   "cell_type": "code",
   "execution_count": 6,
   "metadata": {},
   "outputs": [
    {
     "name": "stderr",
     "output_type": "stream",
     "text": [
      "\u001b[32m[I 2023-04-09 21:17:54,581]\u001b[0m A new study created in memory with name: cnn_lstm\u001b[0m\n"
     ]
    },
    {
     "name": "stdout",
     "output_type": "stream",
     "text": [
      "Metal device set to: Apple M1 Pro\n",
      "\n",
      "systemMemory: 16.00 GB\n",
      "maxCacheSize: 5.33 GB\n",
      "\n"
     ]
    },
    {
     "name": "stderr",
     "output_type": "stream",
     "text": [
      "2023-04-09 21:17:55.007386: W tensorflow/core/platform/profile_utils/cpu_utils.cc:128] Failed to get CPU frequency: 0 Hz\n",
      "\u001b[32m[I 2023-04-09 21:50:12,448]\u001b[0m Trial 0 finished with value: 0.7864235043525696 and parameters: {'timesteps': 80, 'n_features': 3, 'n_classes': 6, 'filters': 640, 'units': 256, 'dropout': 0.4528398982239691, 'batch_size': 32, 'epochs': 100, 'patience': 15}. Best is trial 0 with value: 0.7864235043525696.\u001b[0m\n",
      "\u001b[32m[I 2023-04-09 22:24:51,575]\u001b[0m Trial 1 finished with value: 0.7634245157241821 and parameters: {'timesteps': 80, 'n_features': 3, 'n_classes': 6, 'filters': 640, 'units': 512, 'dropout': 0.388713423545101, 'batch_size': 32, 'epochs': 100, 'patience': 15}. Best is trial 0 with value: 0.7864235043525696.\u001b[0m\n"
     ]
    }
   ],
   "source": [
    "warnings.filterwarnings('ignore')\n",
    "\n",
    "# optuna study\n",
    "study = optuna.create_study(direction=\"maximize\", study_name=\"cnn_lstm\")\n",
    "study.optimize(objective, n_trials=2)"
   ]
  },
  {
   "cell_type": "code",
   "execution_count": 7,
   "metadata": {},
   "outputs": [],
   "source": [
    "# # best parameters\n",
    "# best_params = study.best_trial.params"
   ]
  },
  {
   "cell_type": "code",
   "execution_count": 8,
   "metadata": {},
   "outputs": [
    {
     "data": {
      "text/plain": [
       "['models/best_params_cnn_lstm.pkl']"
      ]
     },
     "execution_count": 8,
     "metadata": {},
     "output_type": "execute_result"
    }
   ],
   "source": [
    "# # save best parameters\n",
    "# joblib.dump(best_params, \"models/best_params_cnn_lstm.pkl\")"
   ]
  },
  {
   "cell_type": "code",
   "execution_count": 6,
   "metadata": {},
   "outputs": [
    {
     "name": "stdout",
     "output_type": "stream",
     "text": [
      "timesteps : 80\n",
      "n_features : 3\n",
      "n_classes : 6\n",
      "filters : 640\n",
      "units : 256\n",
      "dropout : 0.4528398982239691\n",
      "batch_size : 32\n",
      "epochs : 100\n",
      "patience : 15\n"
     ]
    }
   ],
   "source": [
    "# load best parameters\n",
    "best_params = joblib.load(\"models/best_params_cnn_lstm.pkl\")\n",
    "for each in best_params:\n",
    "    print(f'{each} : {best_params[each]}')"
   ]
  },
  {
   "cell_type": "markdown",
   "metadata": {},
   "source": [
    "# Fit model with best parameters"
   ]
  },
  {
   "cell_type": "code",
   "execution_count": 7,
   "metadata": {},
   "outputs": [
    {
     "name": "stdout",
     "output_type": "stream",
     "text": [
      "Metal device set to: Apple M1 Pro\n",
      "\n",
      "systemMemory: 16.00 GB\n",
      "maxCacheSize: 5.33 GB\n",
      "\n"
     ]
    },
    {
     "name": "stderr",
     "output_type": "stream",
     "text": [
      "2023-04-10 04:26:37.549348: W tensorflow/core/platform/profile_utils/cpu_utils.cc:128] Failed to get CPU frequency: 0 Hz\n"
     ]
    },
    {
     "data": {
      "text/plain": [
       "<keras.callbacks.History at 0x288865880>"
      ]
     },
     "execution_count": 7,
     "metadata": {},
     "output_type": "execute_result"
    }
   ],
   "source": [
    "clear_session()\n",
    "\n",
    "# define early stopping\n",
    "early_stop = EarlyStopping(monitor='val_loss',patience=best_params['patience'])\n",
    "\n",
    "best_model = cnn_lstm_model(**best_params)\n",
    "    \n",
    "# fit model\n",
    "best_model.fit(\n",
    "    X_train,\n",
    "    y_train,\n",
    "    epochs=best_params['epochs'],\n",
    "    batch_size=best_params['batch_size'],\n",
    "    validation_data=(X_val, y_val),\n",
    "    shuffle=False,\n",
    "    callbacks=[early_stop],\n",
    "    verbose=False,\n",
    ")"
   ]
  },
  {
   "cell_type": "code",
   "execution_count": 8,
   "metadata": {},
   "outputs": [
    {
     "name": "stdout",
     "output_type": "stream",
     "text": [
      "Model: \"sequential\"\n",
      "_________________________________________________________________\n",
      " Layer (type)                Output Shape              Param #   \n",
      "=================================================================\n",
      " conv1d (Conv1D)             (None, 78, 640)           6400      \n",
      "                                                                 \n",
      " max_pooling1d (MaxPooling1D  (None, 39, 640)          0         \n",
      " )                                                               \n",
      "                                                                 \n",
      " dropout (Dropout)           (None, 39, 640)           0         \n",
      "                                                                 \n",
      " time_distributed (TimeDistr  (None, 39, 640)          0         \n",
      " ibuted)                                                         \n",
      "                                                                 \n",
      " bidirectional (Bidirectiona  (None, 512)              1837056   \n",
      " l)                                                              \n",
      "                                                                 \n",
      " dropout_1 (Dropout)         (None, 512)               0         \n",
      "                                                                 \n",
      " dense (Dense)               (None, 256)               131328    \n",
      "                                                                 \n",
      " dense_1 (Dense)             (None, 6)                 1542      \n",
      "                                                                 \n",
      "=================================================================\n",
      "Total params: 1,976,326\n",
      "Trainable params: 1,976,326\n",
      "Non-trainable params: 0\n",
      "_________________________________________________________________\n"
     ]
    }
   ],
   "source": [
    "best_model.summary()"
   ]
  },
  {
   "cell_type": "code",
   "execution_count": 9,
   "metadata": {},
   "outputs": [
    {
     "data": {
      "text/plain": [
       "<Axes: >"
      ]
     },
     "execution_count": 9,
     "metadata": {},
     "output_type": "execute_result"
    },
    {
     "data": {
      "image/png": "[encoded data removed]",
      "text/plain": [
       "<Figure size 640x480 with 1 Axes>"
      ]
     },
     "metadata": {},
     "output_type": "display_data"
    }
   ],
   "source": [
    "losses = pd.DataFrame(best_model.history.history)\n",
    "losses[['loss', 'val_loss']].plot()"
   ]
  },
  {
   "cell_type": "code",
   "execution_count": 10,
   "metadata": {},
   "outputs": [
    {
     "data": {
      "text/plain": [
       "<Axes: >"
      ]
     },
     "execution_count": 10,
     "metadata": {},
     "output_type": "execute_result"
    },
    {
     "data": {
      "image/png": "[encoded data removed]",
      "text/plain": [
       "<Figure size 640x480 with 1 Axes>"
      ]
     },
     "metadata": {},
     "output_type": "display_data"
    }
   ],
   "source": [
    "accuracy = pd.DataFrame(best_model.history.history)\n",
    "accuracy[['sparse_categorical_accuracy', 'val_sparse_categorical_accuracy']].plot()"
   ]
  },
  {
   "cell_type": "code",
   "execution_count": 11,
   "metadata": {},
   "outputs": [
    {
     "name": "stdout",
     "output_type": "stream",
     "text": [
      "Test loss: 0.6983047723770142 / Test accuracy: 0.8160989284515381\n"
     ]
    }
   ],
   "source": [
    "# Evaluate the model accuracy on the test set.\n",
    "score = best_model.evaluate(X_test, y_test, verbose=0)\n",
    "print(f'Test loss: {score[0]} / Test accuracy: {score[1]}')"
   ]
  },
  {
   "cell_type": "markdown",
   "metadata": {},
   "source": [
    "# Save Predictions & model"
   ]
  },
  {
   "cell_type": "code",
   "execution_count": 12,
   "metadata": {},
   "outputs": [
    {
     "name": "stderr",
     "output_type": "stream",
     "text": [
      "WARNING:absl:Found untraced functions such as _jit_compiled_convolution_op, lstm_cell_1_layer_call_fn, lstm_cell_1_layer_call_and_return_conditional_losses, lstm_cell_2_layer_call_fn, lstm_cell_2_layer_call_and_return_conditional_losses while saving (showing 5 of 5). These functions will not be directly callable after loading.\n"
     ]
    },
    {
     "name": "stdout",
     "output_type": "stream",
     "text": [
      "INFO:tensorflow:Assets written to: ram://bcb36e5d-d4c1-457a-8f01-ea42f005c874/assets\n"
     ]
    },
    {
     "name": "stderr",
     "output_type": "stream",
     "text": [
      "INFO:tensorflow:Assets written to: ram://bcb36e5d-d4c1-457a-8f01-ea42f005c874/assets\n"
     ]
    },
    {
     "data": {
      "text/plain": [
       "['models/cnn_lstm_model.pkl']"
      ]
     },
     "execution_count": 12,
     "metadata": {},
     "output_type": "execute_result"
    }
   ],
   "source": [
    "# save the model using joblib\n",
    "joblib.dump(best_model, \"models/model_cnn_lstm.pkl\")"
   ]
  },
  {
   "cell_type": "code",
   "execution_count": 13,
   "metadata": {},
   "outputs": [
    {
     "name": "stdout",
     "output_type": "stream",
     "text": [
      "412/412 [==============================] - 8s 18ms/step\n"
     ]
    }
   ],
   "source": [
    "# save predictions\n",
    "y_pred = best_model.predict(X_test)\n",
    "y_pred = np.argmax(y_pred, axis=1)\n",
    "\n",
    "y_pred = pd.DataFrame(y_pred, columns=[\"predicted_activity\"])\n",
    "y_pred.to_csv(\"predictions/predictions_cnn_lstm.csv\", index=False)"
   ]
  },
  {
   "cell_type": "code",
   "execution_count": null,
   "metadata": {},
   "outputs": [],
   "source": [
    "# https://link.springer.com/article/10.1007/s11370-021-00358-7 (CNN + LSTM)\n",
    "# https://ieeexplore.ieee.org/document/7881728 (CNN)\n",
    "# https://medium.com/@tanmaychauhan111/human-activity-recognition-using-lstm-cnn-8ccb1a42cb81\n",
    "# user mcnemars test to compare models\n",
    "# http://alexlenail.me/NN-SVG/LeNet.html (neural network diagram)\n",
    "# https://www.researchgate.net/figure/The-architecture-of-1D-deep-convolutional-neural-network-for-fold-classification-The_fig1_327213391\n",
    "# https://www.kaggle.com/code/sylvianclee/human-activity-recognition-cnn-lstm"
   ]
  }
 ],
 "metadata": {
  "kernelspec": {
   "display_name": ".3_venv",
   "language": "python",
   "name": "python3"
  },
  "language_info": {
   "codemirror_mode": {
    "name": "ipython",
    "version": 3
   },
   "file_extension": ".py",
   "mimetype": "text/x-python",
   "name": "python",
   "nbconvert_exporter": "python",
   "pygments_lexer": "ipython3",
   "version": "3.9.6"
  },
  "orig_nbformat": 4
 },
 "nbformat": 4,
 "nbformat_minor": 2
}
