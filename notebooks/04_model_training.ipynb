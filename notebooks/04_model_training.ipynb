{
 "cells": [
  {
   "cell_type": "code",
   "execution_count": 1,
   "metadata": {},
   "outputs": [],
   "source": [
    "# autoreload\n",
    "%load_ext autoreload\n",
    "%autoreload 2\n",
    "\n",
    "# change current working directory to the root of the project\n",
    "import os\n",
    "os.chdir(os.path.dirname(os.getcwd()))"
   ]
  },
  {
   "attachments": {},
   "cell_type": "markdown",
   "metadata": {},
   "source": [
    "# Purpose\n",
    "- Purpose of this notebook is to train an LSTM model"
   ]
  },
  {
   "cell_type": "code",
   "execution_count": 90,
   "metadata": {},
   "outputs": [],
   "source": [
    "import warnings\n",
    "import gc\n",
    "from IPython.display import display\n",
    "import joblib\n",
    "\n",
    "import pandas as pd\n",
    "import numpy as np\n",
    "import matplotlib.pyplot as plt\n",
    "import seaborn as sns\n",
    "from scipy import stats\n",
    "\n",
    "from sklearn.pipeline import make_pipeline\n",
    "from sklearn.compose import make_column_transformer\n",
    "from sklearn.preprocessing import StandardScaler, OneHotEncoder\n",
    "from sklearn.impute import SimpleImputer\n",
    "from sklearn.preprocessing import MinMaxScaler\n",
    "from sklearn.preprocessing import LabelEncoder\n",
    "from sklearn.calibration import CalibratedClassifierCV\n",
    "from sklearn.model_selection import KFold\n",
    "import optuna\n",
    "\n",
    "from tensorflow.keras.models import Sequential\n",
    "from tensorflow.keras.layers import Dense, LSTM, Dropout, Flatten, Bidirectional\n",
    "from tensorflow.keras.callbacks import EarlyStopping\n",
    "from keras.wrappers.scikit_learn import KerasClassifier\n",
    "from tensorflow.keras.backend import clear_session\n",
    "\n",
    "from src.pipeline_transformers import ColumnDropperTransformer"
   ]
  },
  {
   "cell_type": "markdown",
   "metadata": {},
   "source": [
    "# Load Data"
   ]
  },
  {
   "cell_type": "code",
   "execution_count": 124,
   "metadata": {},
   "outputs": [
    {
     "data": {
      "text/html": [
       "<div>\n",
       "<style scoped>\n",
       "    .dataframe tbody tr th:only-of-type {\n",
       "        vertical-align: middle;\n",
       "    }\n",
       "\n",
       "    .dataframe tbody tr th {\n",
       "        vertical-align: top;\n",
       "    }\n",
       "\n",
       "    .dataframe thead th {\n",
       "        text-align: right;\n",
       "    }\n",
       "</style>\n",
       "<table border=\"1\" class=\"dataframe\">\n",
       "  <thead>\n",
       "    <tr style=\"text-align: right;\">\n",
       "      <th></th>\n",
       "      <th>user_id</th>\n",
       "      <th>timestamp</th>\n",
       "      <th>x</th>\n",
       "      <th>y</th>\n",
       "      <th>z</th>\n",
       "    </tr>\n",
       "  </thead>\n",
       "  <tbody>\n",
       "    <tr>\n",
       "      <th>199293</th>\n",
       "      <td>25</td>\n",
       "      <td>8688572339000</td>\n",
       "      <td>10.53</td>\n",
       "      <td>14.90</td>\n",
       "      <td>14.90</td>\n",
       "    </tr>\n",
       "    <tr>\n",
       "      <th>199294</th>\n",
       "      <td>25</td>\n",
       "      <td>8688622327000</td>\n",
       "      <td>3.17</td>\n",
       "      <td>15.70</td>\n",
       "      <td>15.70</td>\n",
       "    </tr>\n",
       "    <tr>\n",
       "      <th>199295</th>\n",
       "      <td>25</td>\n",
       "      <td>8688672346000</td>\n",
       "      <td>-1.04</td>\n",
       "      <td>15.79</td>\n",
       "      <td>15.79</td>\n",
       "    </tr>\n",
       "    <tr>\n",
       "      <th>199296</th>\n",
       "      <td>25</td>\n",
       "      <td>8688722333000</td>\n",
       "      <td>6.13</td>\n",
       "      <td>10.23</td>\n",
       "      <td>10.23</td>\n",
       "    </tr>\n",
       "    <tr>\n",
       "      <th>199297</th>\n",
       "      <td>25</td>\n",
       "      <td>8688772321000</td>\n",
       "      <td>0.08</td>\n",
       "      <td>9.23</td>\n",
       "      <td>9.23</td>\n",
       "    </tr>\n",
       "  </tbody>\n",
       "</table>\n",
       "</div>"
      ],
      "text/plain": [
       "        user_id      timestamp      x      y      z\n",
       "199293       25  8688572339000  10.53  14.90  14.90\n",
       "199294       25  8688622327000   3.17  15.70  15.70\n",
       "199295       25  8688672346000  -1.04  15.79  15.79\n",
       "199296       25  8688722333000   6.13  10.23  10.23\n",
       "199297       25  8688772321000   0.08   9.23   9.23"
      ]
     },
     "metadata": {},
     "output_type": "display_data"
    },
    {
     "data": {
      "text/html": [
       "<div>\n",
       "<style scoped>\n",
       "    .dataframe tbody tr th:only-of-type {\n",
       "        vertical-align: middle;\n",
       "    }\n",
       "\n",
       "    .dataframe tbody tr th {\n",
       "        vertical-align: top;\n",
       "    }\n",
       "\n",
       "    .dataframe thead th {\n",
       "        text-align: right;\n",
       "    }\n",
       "</style>\n",
       "<table border=\"1\" class=\"dataframe\">\n",
       "  <thead>\n",
       "    <tr style=\"text-align: right;\">\n",
       "      <th></th>\n",
       "      <th>activity</th>\n",
       "    </tr>\n",
       "  </thead>\n",
       "  <tbody>\n",
       "    <tr>\n",
       "      <th>199293</th>\n",
       "      <td>Jogging</td>\n",
       "    </tr>\n",
       "    <tr>\n",
       "      <th>199294</th>\n",
       "      <td>Jogging</td>\n",
       "    </tr>\n",
       "    <tr>\n",
       "      <th>199295</th>\n",
       "      <td>Jogging</td>\n",
       "    </tr>\n",
       "    <tr>\n",
       "      <th>199296</th>\n",
       "      <td>Jogging</td>\n",
       "    </tr>\n",
       "    <tr>\n",
       "      <th>199297</th>\n",
       "      <td>Jogging</td>\n",
       "    </tr>\n",
       "  </tbody>\n",
       "</table>\n",
       "</div>"
      ],
      "text/plain": [
       "       activity\n",
       "199293  Jogging\n",
       "199294  Jogging\n",
       "199295  Jogging\n",
       "199296  Jogging\n",
       "199297  Jogging"
      ]
     },
     "metadata": {},
     "output_type": "display_data"
    }
   ],
   "source": [
    "nrows = None\n",
    "X_train = pd.read_csv(\"data/transformed/X_train.csv\", nrows=nrows)\n",
    "X_val = pd.read_csv(\"data/transformed/X_val.csv\", nrows=nrows)\n",
    "X_test = pd.read_csv(\"data/transformed/X_test.csv\", nrows=nrows)\n",
    "\n",
    "y_train = pd.read_csv(\"data/transformed/y_train.csv\", nrows=nrows)\n",
    "y_val = pd.read_csv(\"data/transformed/y_val.csv\", nrows=nrows)\n",
    "y_test = pd.read_csv(\"data/transformed/y_test.csv\", nrows=nrows)\n",
    "\n",
    "display(X_val.tail())\n",
    "display(y_val.tail())"
   ]
  },
  {
   "cell_type": "markdown",
   "metadata": {},
   "source": [
    "# Define Parameters"
   ]
  },
  {
   "cell_type": "code",
   "execution_count": 125,
   "metadata": {},
   "outputs": [],
   "source": [
    "timesteps = 240\n",
    "n_features = 3\n",
    "n_classes = len(y_train[\"activity\"].unique().tolist())"
   ]
  },
  {
   "attachments": {},
   "cell_type": "markdown",
   "metadata": {},
   "source": [
    "# Preprocess"
   ]
  },
  {
   "cell_type": "code",
   "execution_count": 126,
   "metadata": {},
   "outputs": [
    {
     "data": {
      "text/plain": [
       "['models/encoder.pkl']"
      ]
     },
     "execution_count": 126,
     "metadata": {},
     "output_type": "execute_result"
    }
   ],
   "source": [
    "# normalize the data and convert back to dataframe\n",
    "columns = X_train.columns\n",
    "\n",
    "scaler = MinMaxScaler()\n",
    "X_train = pd.DataFrame(scaler.fit_transform(X_train), columns=columns)\n",
    "X_val = pd.DataFrame(scaler.transform(X_val), columns=columns)\n",
    "X_test = pd.DataFrame(scaler.transform(X_test), columns=columns)\n",
    "\n",
    "# label encode the target variable\n",
    "encoder = LabelEncoder()\n",
    "y_train = pd.DataFrame(encoder.fit_transform(y_train), columns=[\"activity\"])\n",
    "y_val = pd.DataFrame(encoder.transform(y_val), columns=[\"activity\"])\n",
    "y_test = pd.DataFrame(encoder.transform(y_test), columns=[\"activity\"])\n",
    "\n",
    "# save the scaler and encoder using joblib\n",
    "joblib.dump(scaler, \"models/scaler.pkl\")\n",
    "joblib.dump(encoder, \"models/encoder.pkl\")"
   ]
  },
  {
   "cell_type": "code",
   "execution_count": 127,
   "metadata": {},
   "outputs": [
    {
     "data": {
      "text/plain": [
       "array(['Downstairs', 'Jogging', 'Sitting', 'Standing', 'Upstairs',\n",
       "       'Walking'], dtype=object)"
      ]
     },
     "execution_count": 127,
     "metadata": {},
     "output_type": "execute_result"
    }
   ],
   "source": [
    "encoder.classes_"
   ]
  },
  {
   "cell_type": "code",
   "execution_count": 129,
   "metadata": {},
   "outputs": [
    {
     "data": {
      "text/html": [
       "<div>\n",
       "<style scoped>\n",
       "    .dataframe tbody tr th:only-of-type {\n",
       "        vertical-align: middle;\n",
       "    }\n",
       "\n",
       "    .dataframe tbody tr th {\n",
       "        vertical-align: top;\n",
       "    }\n",
       "\n",
       "    .dataframe thead th {\n",
       "        text-align: right;\n",
       "    }\n",
       "</style>\n",
       "<table border=\"1\" class=\"dataframe\">\n",
       "  <thead>\n",
       "    <tr style=\"text-align: right;\">\n",
       "      <th></th>\n",
       "      <th>user_id</th>\n",
       "      <th>timestamp</th>\n",
       "      <th>x</th>\n",
       "      <th>y</th>\n",
       "      <th>z</th>\n",
       "      <th>activity</th>\n",
       "    </tr>\n",
       "  </thead>\n",
       "  <tbody>\n",
       "    <tr>\n",
       "      <th>0</th>\n",
       "      <td>0.0</td>\n",
       "      <td>0.023839</td>\n",
       "      <td>0.513664</td>\n",
       "      <td>0.766961</td>\n",
       "      <td>0.766961</td>\n",
       "      <td>5</td>\n",
       "    </tr>\n",
       "    <tr>\n",
       "      <th>1</th>\n",
       "      <td>0.0</td>\n",
       "      <td>0.023840</td>\n",
       "      <td>0.669534</td>\n",
       "      <td>0.682219</td>\n",
       "      <td>0.682219</td>\n",
       "      <td>5</td>\n",
       "    </tr>\n",
       "    <tr>\n",
       "      <th>2</th>\n",
       "      <td>0.0</td>\n",
       "      <td>0.023840</td>\n",
       "      <td>0.519737</td>\n",
       "      <td>0.636570</td>\n",
       "      <td>0.636570</td>\n",
       "      <td>5</td>\n",
       "    </tr>\n",
       "    <tr>\n",
       "      <th>3</th>\n",
       "      <td>0.0</td>\n",
       "      <td>0.023840</td>\n",
       "      <td>0.442814</td>\n",
       "      <td>0.620933</td>\n",
       "      <td>0.620933</td>\n",
       "      <td>5</td>\n",
       "    </tr>\n",
       "    <tr>\n",
       "      <th>4</th>\n",
       "      <td>0.0</td>\n",
       "      <td>0.023840</td>\n",
       "      <td>0.380061</td>\n",
       "      <td>0.602774</td>\n",
       "      <td>0.602774</td>\n",
       "      <td>5</td>\n",
       "    </tr>\n",
       "  </tbody>\n",
       "</table>\n",
       "</div>"
      ],
      "text/plain": [
       "   user_id  timestamp         x         y         z  activity\n",
       "0      0.0   0.023839  0.513664  0.766961  0.766961         5\n",
       "1      0.0   0.023840  0.669534  0.682219  0.682219         5\n",
       "2      0.0   0.023840  0.519737  0.636570  0.636570         5\n",
       "3      0.0   0.023840  0.442814  0.620933  0.620933         5\n",
       "4      0.0   0.023840  0.380061  0.602774  0.602774         5"
      ]
     },
     "execution_count": 129,
     "metadata": {},
     "output_type": "execute_result"
    }
   ],
   "source": [
    "data = X_train.merge(y_train, left_index=True, right_index=True)\n",
    "data.head()"
   ]
  },
  {
   "cell_type": "code",
   "execution_count": 132,
   "metadata": {},
   "outputs": [
    {
     "data": {
      "text/plain": [
       "5    91540\n",
       "1    85115\n",
       "4    41115\n",
       "0    28372\n",
       "2    10985\n",
       "3     9495\n",
       "Name: activity, dtype: int64"
      ]
     },
     "execution_count": 132,
     "metadata": {},
     "output_type": "execute_result"
    }
   ],
   "source": [
    "y_test[\"activity\"].value_counts()"
   ]
  },
  {
   "cell_type": "code",
   "execution_count": 122,
   "metadata": {},
   "outputs": [],
   "source": [
    "data = X_train.merge(y_train, left_index=True, right_index=True)\n",
    "\n",
    "# normalize X_train, y_train, z\n",
    "data[['x', 'y', 'z']] = MinMaxScaler().fit_transform(data[['x', 'y', 'z']])\n",
    "\n",
    "# order by_train user_id and timestamp\n",
    "data = data.sort_values(['user_id', 'timestamp'])\n",
    "data = data.groupby(['user_id', 'activity']).tail(240)\n",
    "y_train = data['activity']"
   ]
  },
  {
   "cell_type": "code",
   "execution_count": 123,
   "metadata": {},
   "outputs": [
    {
     "data": {
      "text/plain": [
       "17620     5\n",
       "17621     5\n",
       "17622     5\n",
       "17623     5\n",
       "17624     5\n",
       "         ..\n",
       "632279    5\n",
       "632280    5\n",
       "632281    5\n",
       "632282    5\n",
       "632283    5\n",
       "Name: activity, Length: 26400, dtype: int64"
      ]
     },
     "execution_count": 123,
     "metadata": {},
     "output_type": "execute_result"
    }
   ],
   "source": [
    "y_train"
   ]
  },
  {
   "cell_type": "code",
   "execution_count": 100,
   "metadata": {},
   "outputs": [],
   "source": [
    "def preprocess_data(X: pd.DataFrame, y: pd.DataFrame, n_timesteps: int = 80):\n",
    "    \"\"\"\n",
    "    Preprocess data for LSTM model.\n",
    "    \"\"\"\n",
    "\n",
    "\n",
    "    # merge X and y on index\n",
    "    data = X.merge(y, left_index=True, right_index=True)\n",
    "\n",
    "    # normalize x, y, z\n",
    "    data[['x', 'y', 'z']] = MinMaxScaler().fit_transform(data[['x', 'y', 'z']])\n",
    "    \n",
    "    # order by user_id and timestamp\n",
    "    data = data.sort_values(['user_id', 'timestamp'])\n",
    "    data = data.groupby(['user_id', 'activity']).tail(n_timesteps)\n",
    "    y = data['activity']\n",
    "    # replace timestamp with range of timesteps\n",
    "    data['timestamp'] = data.groupby(['user_id', 'activity']).cumcount()\n",
    "\n",
    "    # reshape data\n",
    "    X = data[['x', 'y', 'z']].values.reshape(-1, n_timesteps, 3)\n",
    "\n",
    "    y = data.groupby(['user_id', 'activity']).first().reset_index()[['activity']]\n",
    "\n",
    "    return X, y"
   ]
  },
  {
   "cell_type": "code",
   "execution_count": 109,
   "metadata": {},
   "outputs": [],
   "source": [
    "def create_dataset(X, y, time_steps=1, step=1):\n",
    "    Xs, ys = [], []\n",
    "    for i in range(0, len(X) - time_steps, step):\n",
    "        v = X.iloc[i:(i + time_steps)].values\n",
    "        labels = y.iloc[i: i + time_steps]\n",
    "        Xs.append(v)\n",
    "        ys.append(stats.mode(labels)[0][0])\n",
    "    return np.array(Xs), np.array(ys).reshape(-1, 1)"
   ]
  },
  {
   "cell_type": "code",
   "execution_count": 110,
   "metadata": {},
   "outputs": [],
   "source": [
    "# merge X_train and y_train\n",
    "df_train = X_train.merge(y_train, left_index=True, right_index=True)\n",
    "\n",
    "# merge X_val and y_val\n",
    "df_val = X_val.merge(y_val, left_index=True, right_index=True)"
   ]
  },
  {
   "cell_type": "code",
   "execution_count": 111,
   "metadata": {},
   "outputs": [],
   "source": [
    "TIME_STEPS = 240\n",
    "STEP = 40\n",
    "\n",
    "X_train, y_train = create_dataset(\n",
    "    df_train[['x', 'y', 'z']],\n",
    "    df_train.activity,\n",
    "    TIME_STEPS,\n",
    "    STEP\n",
    ")\n",
    "\n",
    "X_val, y_val = create_dataset(\n",
    "    df_val[['x', 'y', 'z']],\n",
    "    df_val.activity,\n",
    "    TIME_STEPS,\n",
    "    STEP\n",
    ")"
   ]
  },
  {
   "cell_type": "code",
   "execution_count": 112,
   "metadata": {},
   "outputs": [
    {
     "data": {
      "text/plain": [
       "(15802, 240, 3)"
      ]
     },
     "execution_count": 112,
     "metadata": {},
     "output_type": "execute_result"
    }
   ],
   "source": [
    "X_train.shape"
   ]
  },
  {
   "cell_type": "code",
   "execution_count": 101,
   "metadata": {},
   "outputs": [],
   "source": [
    "X_train, y_train = preprocess_data(X_train, y_train, timesteps)\n",
    "X_val, y_val = preprocess_data(X_val, y_val, timesteps)\n",
    "X_test, y_test = preprocess_data(X_test, y_test, timesteps)"
   ]
  },
  {
   "cell_type": "code",
   "execution_count": 104,
   "metadata": {},
   "outputs": [
    {
     "data": {
      "text/plain": [
       "(110, 240, 3)"
      ]
     },
     "execution_count": 104,
     "metadata": {},
     "output_type": "execute_result"
    }
   ],
   "source": [
    "X_train.shape"
   ]
  },
  {
   "cell_type": "markdown",
   "metadata": {},
   "source": [
    "# Hyper-parameter Tuning"
   ]
  },
  {
   "cell_type": "code",
   "execution_count": 9,
   "metadata": {},
   "outputs": [],
   "source": [
    "# increase epochs\n",
    "# increase patience\n",
    "# add extra layer to model\n",
    "# Use Shap for feature importance\n",
    "# https://stackoverflow.com/questions/70655055/trying-to-callibrate-keras-model"
   ]
  },
  {
   "cell_type": "code",
   "execution_count": 56,
   "metadata": {},
   "outputs": [],
   "source": [
    "def objective(trial: optuna.trial.Trial) -> float:\n",
    "    '''Takes in hyperparameters as input, and trains a model that computes accuracy on the validation set.'''\n",
    "    clear_session()\n",
    "\n",
    "    # define early stopping\n",
    "    early_stop = EarlyStopping(monitor='val_loss',patience=10)\n",
    "\n",
    "    # define model architecture\n",
    "    model = Sequential()\n",
    "\n",
    "    model.add(\n",
    "        keras.layers.Bidirectional(\n",
    "        keras.layers.LSTM(\n",
    "            units=trial.suggest_int(\"units\", 128, 512, log=True),\n",
    "            input_shape=(timesteps, n_features))))\n",
    "\n",
    "    model.add(keras.layers.Dropout(rate=trial.suggest_uniform(\"dropout\", 0.0, 0.5)))\n",
    "\n",
    "    model.add(keras.layers.Dense(units=trial.suggest_int(\"units\", 128, 512, log=True), activation='relu'))\n",
    "\n",
    "    model.add(keras.layers.Dense(n_classes, activation='softmax'))\n",
    "\n",
    "    # compile model\n",
    "    model.compile(\n",
    "        loss=\"sparse_categorical_crossentropy\",\n",
    "        optimizer='adam',\n",
    "        metrics=[\"acc\"])\n",
    "        \n",
    "    # fit model\n",
    "    model.fit(\n",
    "        X_train,\n",
    "        y_train,\n",
    "        epochs=20,\n",
    "        batch_size=trial.suggest_int(\"batch_size\", 32, 128, log=True),\n",
    "        validation_data=(X_val, y_val),\n",
    "        shuffle=True,\n",
    "        callbacks=[early_stop],\n",
    "        verbose=False,\n",
    "    )\n",
    "\n",
    "    # compute validation error\n",
    "    score = model.score(X_val, y_val, verbose=0)\n",
    "    \n",
    "    return score"
   ]
  },
  {
   "cell_type": "code",
   "execution_count": 12,
   "metadata": {},
   "outputs": [
    {
     "name": "stderr",
     "output_type": "stream",
     "text": [
      "\u001b[32m[I 2023-04-03 13:15:16,310]\u001b[0m A new study created in memory with name: lstm\u001b[0m\n"
     ]
    },
    {
     "name": "stdout",
     "output_type": "stream",
     "text": [
      "Metal device set to: Apple M1 Pro\n",
      "\n",
      "systemMemory: 16.00 GB\n",
      "maxCacheSize: 5.33 GB\n",
      "\n",
      "WARNING:tensorflow:Layer lstm will not use cuDNN kernels since it doesn't meet the criteria. It will use a generic GPU kernel as fallback when running on GPU.\n"
     ]
    },
    {
     "name": "stderr",
     "output_type": "stream",
     "text": [
      "2023-04-03 13:15:16.473698: W tensorflow/core/platform/profile_utils/cpu_utils.cc:128] Failed to get CPU frequency: 0 Hz\n",
      "\u001b[32m[I 2023-04-03 13:46:48,349]\u001b[0m Trial 0 finished with value: 0.25925925374031067 and parameters: {'units': 33, 'dropout': 0.38690914186595604}. Best is trial 0 with value: 0.25925925374031067.\u001b[0m\n"
     ]
    },
    {
     "name": "stdout",
     "output_type": "stream",
     "text": [
      "WARNING:tensorflow:Layer lstm will not use cuDNN kernels since it doesn't meet the criteria. It will use a generic GPU kernel as fallback when running on GPU.\n"
     ]
    },
    {
     "name": "stderr",
     "output_type": "stream",
     "text": [
      "\u001b[32m[I 2023-04-03 14:52:29,984]\u001b[0m Trial 1 finished with value: 0.1111111119389534 and parameters: {'units': 38, 'dropout': 0.3139180835132931}. Best is trial 0 with value: 0.25925925374031067.\u001b[0m\n"
     ]
    },
    {
     "name": "stdout",
     "output_type": "stream",
     "text": [
      "WARNING:tensorflow:Layer lstm will not use cuDNN kernels since it doesn't meet the criteria. It will use a generic GPU kernel as fallback when running on GPU.\n"
     ]
    },
    {
     "name": "stderr",
     "output_type": "stream",
     "text": [
      "\u001b[32m[I 2023-04-03 15:27:39,666]\u001b[0m Trial 2 finished with value: 0.14814814925193787 and parameters: {'units': 37, 'dropout': 0.08936777068475527}. Best is trial 0 with value: 0.25925925374031067.\u001b[0m\n"
     ]
    },
    {
     "name": "stdout",
     "output_type": "stream",
     "text": [
      "WARNING:tensorflow:Layer lstm will not use cuDNN kernels since it doesn't meet the criteria. It will use a generic GPU kernel as fallback when running on GPU.\n"
     ]
    },
    {
     "name": "stderr",
     "output_type": "stream",
     "text": [
      "\u001b[32m[I 2023-04-03 16:06:18,138]\u001b[0m Trial 3 finished with value: 0.2222222238779068 and parameters: {'units': 113, 'dropout': 0.06681612628015637}. Best is trial 0 with value: 0.25925925374031067.\u001b[0m\n"
     ]
    },
    {
     "name": "stdout",
     "output_type": "stream",
     "text": [
      "WARNING:tensorflow:Layer lstm will not use cuDNN kernels since it doesn't meet the criteria. It will use a generic GPU kernel as fallback when running on GPU.\n"
     ]
    },
    {
     "name": "stderr",
     "output_type": "stream",
     "text": [
      "\u001b[32m[I 2023-04-03 16:49:20,252]\u001b[0m Trial 4 finished with value: 0.14814814925193787 and parameters: {'units': 181, 'dropout': 0.48579791492969854}. Best is trial 0 with value: 0.25925925374031067.\u001b[0m\n"
     ]
    }
   ],
   "source": [
    "warnings.filterwarnings('ignore')\n",
    "\n",
    "# optuna study\n",
    "study = optuna.create_study(direction=\"maximize\", study_name=\"lstm\")\n",
    "study.optimize(objective, n_trials=5)"
   ]
  },
  {
   "cell_type": "code",
   "execution_count": 13,
   "metadata": {},
   "outputs": [
    {
     "name": "stdout",
     "output_type": "stream",
     "text": [
      "best_params={'units': 33, 'dropout': 0.38690914186595604}\n"
     ]
    }
   ],
   "source": [
    "# print best parameters\n",
    "best_params = study.best_trial.params\n",
    "print(f'{best_params=}')"
   ]
  },
  {
   "cell_type": "markdown",
   "metadata": {},
   "source": [
    "# Fit model with best parameters"
   ]
  },
  {
   "cell_type": "code",
   "execution_count": 14,
   "metadata": {},
   "outputs": [],
   "source": [
    "units = best_params['units']\n",
    "dropout = best_params['dropout']"
   ]
  },
  {
   "cell_type": "code",
   "execution_count": 65,
   "metadata": {},
   "outputs": [
    {
     "data": {
      "text/plain": [
       "<keras.callbacks.History at 0x324b47850>"
      ]
     },
     "execution_count": 65,
     "metadata": {},
     "output_type": "execute_result"
    }
   ],
   "source": [
    "clear_session()\n",
    "# define early stopping\n",
    "early_stop = EarlyStopping(monitor='val_loss',patience=10)\n",
    "\n",
    "# define model architecture\n",
    "best_model = Sequential()\n",
    "\n",
    "best_model.add(\n",
    "    Bidirectional(\n",
    "        LSTM(\n",
    "            units=units,\n",
    "            input_shape=(timesteps, n_features))))\n",
    "\n",
    "best_model.add(Dropout(rate=dropout))\n",
    "\n",
    "best_model.add(Dense(units=units, activation='relu'))\n",
    "\n",
    "best_model.add(Dense(n_classes, activation='softmax'))\n",
    "\n",
    "# compile model\n",
    "best_model.compile(\n",
    "    loss=\"sparse_categorical_crossentropy\",\n",
    "    optimizer='adam',\n",
    "    metrics=[\"acc\"])\n",
    "    \n",
    "# fit model\n",
    "best_model.fit(\n",
    "    X_train,\n",
    "    y_train,\n",
    "    epochs=20,\n",
    "    batch_size=32,\n",
    "    validation_data=(X_val, y_val),\n",
    "    shuffle=True,\n",
    "    callbacks=[early_stop],\n",
    "    verbose=False,\n",
    ")"
   ]
  },
  {
   "cell_type": "code",
   "execution_count": 66,
   "metadata": {},
   "outputs": [
    {
     "data": {
      "text/plain": [
       "<Axes: >"
      ]
     },
     "execution_count": 66,
     "metadata": {},
     "output_type": "execute_result"
    },
    {
     "data": {
      "image/png": "[encoded data removed]",
      "text/plain": [
       "<Figure size 640x480 with 1 Axes>"
      ]
     },
     "metadata": {},
     "output_type": "display_data"
    }
   ],
   "source": [
    "losses = pd.DataFrame(best_model.history.history)\n",
    "losses[['loss', 'val_loss']].plot()"
   ]
  },
  {
   "cell_type": "code",
   "execution_count": 71,
   "metadata": {},
   "outputs": [
    {
     "data": {
      "text/plain": [
       "<Axes: >"
      ]
     },
     "execution_count": 71,
     "metadata": {},
     "output_type": "execute_result"
    },
    {
     "data": {
      "image/png": "[encoded data removed]",
      "text/plain": [
       "<Figure size 640x480 with 1 Axes>"
      ]
     },
     "metadata": {},
     "output_type": "display_data"
    }
   ],
   "source": [
    "accuracy = pd.DataFrame(best_model.history.history)\n",
    "accuracy[['acc', 'val_acc']].plot()"
   ]
  },
  {
   "cell_type": "code",
   "execution_count": 72,
   "metadata": {},
   "outputs": [
    {
     "name": "stdout",
     "output_type": "stream",
     "text": [
      "Test loss: 1.7757368087768555 / Test accuracy: 0.190476194024086\n"
     ]
    }
   ],
   "source": [
    "# Evaluate the model accuracy on the test set.\n",
    "score = best_model.evaluate(X_test, y_test, verbose=0)\n",
    "print(f'Test loss: {score[0]} / Test accuracy: {score[1]}')"
   ]
  },
  {
   "cell_type": "markdown",
   "metadata": {},
   "source": [
    "# Save Predictions & model"
   ]
  },
  {
   "cell_type": "code",
   "execution_count": 20,
   "metadata": {},
   "outputs": [
    {
     "name": "stdout",
     "output_type": "stream",
     "text": [
      "INFO:tensorflow:Assets written to: ram://b9b7c109-8d6e-49bf-a791-68ea83496c2e/assets\n"
     ]
    },
    {
     "data": {
      "text/plain": [
       "['models/lstm_model.pkl']"
      ]
     },
     "execution_count": 20,
     "metadata": {},
     "output_type": "execute_result"
    }
   ],
   "source": [
    "# save the model using joblib\n",
    "joblib.dump(best_model, \"models/lstm_model.pkl\")"
   ]
  },
  {
   "cell_type": "code",
   "execution_count": 74,
   "metadata": {},
   "outputs": [
    {
     "name": "stdout",
     "output_type": "stream",
     "text": [
      "2/2 [==============================] - 2s 884ms/step\n"
     ]
    }
   ],
   "source": [
    "# save predictions\n",
    "y_pred = best_model.predict(X_test)\n",
    "\n",
    "#y_pred = pd.DataFrame(y_pred, columns=[\"activity\"])\n",
    "#y_pred.to_csv(\"predictions/raw_predictions_lstm.csv\", index=False)"
   ]
  },
  {
   "cell_type": "code",
   "execution_count": 75,
   "metadata": {},
   "outputs": [
    {
     "data": {
      "text/plain": [
       "array([[0.17166854, 0.16241647, 0.1367863 , 0.14395718, 0.18497398,\n",
       "        0.20019753],\n",
       "       [0.17085749, 0.16446361, 0.13498338, 0.13614614, 0.18503724,\n",
       "        0.20851217],\n",
       "       [0.17213994, 0.16309305, 0.13346894, 0.13700986, 0.18638301,\n",
       "        0.20790516],\n",
       "       [0.16849354, 0.16436991, 0.13815409, 0.13896449, 0.18556233,\n",
       "        0.20445558],\n",
       "       [0.17394632, 0.16574809, 0.13267261, 0.14250176, 0.18344083,\n",
       "        0.20169047],\n",
       "       [0.1716788 , 0.16461205, 0.13269375, 0.13704872, 0.18605332,\n",
       "        0.20791334],\n",
       "       [0.17147815, 0.1624037 , 0.13434525, 0.13690382, 0.18687722,\n",
       "        0.20799187],\n",
       "       [0.171303  , 0.16163385, 0.13542175, 0.13875632, 0.1879741 ,\n",
       "        0.20491098],\n",
       "       [0.17091838, 0.16289803, 0.13366498, 0.13416375, 0.18770619,\n",
       "        0.21064869],\n",
       "       [0.16647765, 0.16601789, 0.14140494, 0.14377967, 0.18293628,\n",
       "        0.19938353],\n",
       "       [0.17119424, 0.1651038 , 0.13246064, 0.13476533, 0.18594131,\n",
       "        0.21053465],\n",
       "       [0.1709609 , 0.1634264 , 0.13460413, 0.13758391, 0.18624033,\n",
       "        0.20718431],\n",
       "       [0.17117901, 0.162263  , 0.13427109, 0.13782299, 0.18771583,\n",
       "        0.20674804],\n",
       "       [0.17072275, 0.16291372, 0.1353019 , 0.13905169, 0.18679449,\n",
       "        0.2052154 ],\n",
       "       [0.17248376, 0.16342904, 0.13253562, 0.13835466, 0.18666168,\n",
       "        0.20653528],\n",
       "       [0.17068267, 0.16244778, 0.13506518, 0.13778204, 0.18784197,\n",
       "        0.20618041],\n",
       "       [0.17202918, 0.16293447, 0.13459992, 0.13743854, 0.18606114,\n",
       "        0.20693675],\n",
       "       [0.1715561 , 0.16536887, 0.13349217, 0.13542533, 0.18487124,\n",
       "        0.20928638],\n",
       "       [0.1722372 , 0.16121073, 0.13579501, 0.14573914, 0.1865973 ,\n",
       "        0.19842057],\n",
       "       [0.16930231, 0.16464928, 0.14604822, 0.14803377, 0.17772809,\n",
       "        0.1942383 ],\n",
       "       [0.17058346, 0.16374438, 0.14836237, 0.15366776, 0.17613766,\n",
       "        0.18750435],\n",
       "       [0.16961174, 0.16606376, 0.1343583 , 0.13534826, 0.18608382,\n",
       "        0.2085341 ],\n",
       "       [0.17164908, 0.16273676, 0.13358298, 0.1379822 , 0.18717311,\n",
       "        0.20687583],\n",
       "       [0.17154488, 0.16327982, 0.13324198, 0.13644539, 0.18681495,\n",
       "        0.20867305],\n",
       "       [0.17216636, 0.16390032, 0.13207722, 0.13402265, 0.18686543,\n",
       "        0.21096802],\n",
       "       [0.16863708, 0.1616745 , 0.14052896, 0.14516644, 0.18621254,\n",
       "        0.19778053],\n",
       "       [0.17126885, 0.16205019, 0.13542674, 0.13594303, 0.18704559,\n",
       "        0.20826568],\n",
       "       [0.17196181, 0.16038437, 0.13723189, 0.1442677 , 0.18653393,\n",
       "        0.19962034],\n",
       "       [0.17109334, 0.16238375, 0.14244707, 0.14864641, 0.18104674,\n",
       "        0.19438265],\n",
       "       [0.17189072, 0.16172451, 0.13704382, 0.14515293, 0.18540879,\n",
       "        0.19877918],\n",
       "       [0.17170498, 0.16212079, 0.14236172, 0.15333754, 0.17992243,\n",
       "        0.19055258],\n",
       "       [0.1713961 , 0.16356349, 0.1336628 , 0.13600801, 0.18638264,\n",
       "        0.20898692],\n",
       "       [0.16991852, 0.16649115, 0.13398774, 0.13455835, 0.18465342,\n",
       "        0.21039087],\n",
       "       [0.171276  , 0.16526808, 0.13236102, 0.13543242, 0.18579729,\n",
       "        0.20986512],\n",
       "       [0.17299376, 0.16572383, 0.13003114, 0.13198052, 0.18608217,\n",
       "        0.2131886 ],\n",
       "       [0.17113067, 0.16385311, 0.13295643, 0.13366926, 0.18726742,\n",
       "        0.21112315],\n",
       "       [0.17257227, 0.16264746, 0.1342714 , 0.13677596, 0.18579929,\n",
       "        0.2079336 ],\n",
       "       [0.17034458, 0.1629603 , 0.13583319, 0.13676365, 0.18635479,\n",
       "        0.20774347],\n",
       "       [0.17135903, 0.16396436, 0.133267  , 0.13492508, 0.18640953,\n",
       "        0.21007499],\n",
       "       [0.17117937, 0.16143826, 0.13590312, 0.1373601 , 0.18713929,\n",
       "        0.20697984],\n",
       "       [0.1705154 , 0.1632466 , 0.1454202 , 0.14944291, 0.17866275,\n",
       "        0.19271213],\n",
       "       [0.17144726, 0.16334479, 0.13407041, 0.1363503 , 0.18622999,\n",
       "        0.2085573 ]], dtype=float32)"
      ]
     },
     "execution_count": 75,
     "metadata": {},
     "output_type": "execute_result"
    }
   ],
   "source": [
    "y_pred"
   ]
  },
  {
   "cell_type": "code",
   "execution_count": 76,
   "metadata": {},
   "outputs": [
    {
     "data": {
      "text/plain": [
       "array([5, 5, 5, 5, 5, 5, 5, 5, 5, 5, 5, 5, 5, 5, 5, 5, 5, 5, 5, 5, 5, 5,\n",
       "       5, 5, 5, 5, 5, 5, 5, 5, 5, 5, 5, 5, 5, 5, 5, 5, 5, 5, 5, 5])"
      ]
     },
     "execution_count": 76,
     "metadata": {},
     "output_type": "execute_result"
    }
   ],
   "source": [
    "# select the index with the maximum probability for each row\n",
    "y_pred = np.argmax(y_pred, axis=1)\n",
    "y_pred"
   ]
  },
  {
   "cell_type": "code",
   "execution_count": 23,
   "metadata": {},
   "outputs": [
    {
     "data": {
      "text/html": [
       "<div>\n",
       "<style scoped>\n",
       "    .dataframe tbody tr th:only-of-type {\n",
       "        vertical-align: middle;\n",
       "    }\n",
       "\n",
       "    .dataframe tbody tr th {\n",
       "        vertical-align: top;\n",
       "    }\n",
       "\n",
       "    .dataframe thead th {\n",
       "        text-align: right;\n",
       "    }\n",
       "</style>\n",
       "<table border=\"1\" class=\"dataframe\">\n",
       "  <thead>\n",
       "    <tr style=\"text-align: right;\">\n",
       "      <th></th>\n",
       "      <th>activity</th>\n",
       "    </tr>\n",
       "  </thead>\n",
       "  <tbody>\n",
       "    <tr>\n",
       "      <th>0</th>\n",
       "      <td>0</td>\n",
       "    </tr>\n",
       "    <tr>\n",
       "      <th>1</th>\n",
       "      <td>1</td>\n",
       "    </tr>\n",
       "    <tr>\n",
       "      <th>2</th>\n",
       "      <td>2</td>\n",
       "    </tr>\n",
       "    <tr>\n",
       "      <th>3</th>\n",
       "      <td>3</td>\n",
       "    </tr>\n",
       "    <tr>\n",
       "      <th>4</th>\n",
       "      <td>4</td>\n",
       "    </tr>\n",
       "    <tr>\n",
       "      <th>5</th>\n",
       "      <td>5</td>\n",
       "    </tr>\n",
       "    <tr>\n",
       "      <th>6</th>\n",
       "      <td>0</td>\n",
       "    </tr>\n",
       "    <tr>\n",
       "      <th>7</th>\n",
       "      <td>1</td>\n",
       "    </tr>\n",
       "    <tr>\n",
       "      <th>8</th>\n",
       "      <td>4</td>\n",
       "    </tr>\n",
       "    <tr>\n",
       "      <th>9</th>\n",
       "      <td>5</td>\n",
       "    </tr>\n",
       "    <tr>\n",
       "      <th>10</th>\n",
       "      <td>0</td>\n",
       "    </tr>\n",
       "    <tr>\n",
       "      <th>11</th>\n",
       "      <td>1</td>\n",
       "    </tr>\n",
       "    <tr>\n",
       "      <th>12</th>\n",
       "      <td>4</td>\n",
       "    </tr>\n",
       "    <tr>\n",
       "      <th>13</th>\n",
       "      <td>5</td>\n",
       "    </tr>\n",
       "    <tr>\n",
       "      <th>14</th>\n",
       "      <td>0</td>\n",
       "    </tr>\n",
       "    <tr>\n",
       "      <th>15</th>\n",
       "      <td>1</td>\n",
       "    </tr>\n",
       "    <tr>\n",
       "      <th>16</th>\n",
       "      <td>4</td>\n",
       "    </tr>\n",
       "    <tr>\n",
       "      <th>17</th>\n",
       "      <td>5</td>\n",
       "    </tr>\n",
       "    <tr>\n",
       "      <th>18</th>\n",
       "      <td>0</td>\n",
       "    </tr>\n",
       "    <tr>\n",
       "      <th>19</th>\n",
       "      <td>1</td>\n",
       "    </tr>\n",
       "    <tr>\n",
       "      <th>20</th>\n",
       "      <td>2</td>\n",
       "    </tr>\n",
       "    <tr>\n",
       "      <th>21</th>\n",
       "      <td>3</td>\n",
       "    </tr>\n",
       "    <tr>\n",
       "      <th>22</th>\n",
       "      <td>4</td>\n",
       "    </tr>\n",
       "    <tr>\n",
       "      <th>23</th>\n",
       "      <td>5</td>\n",
       "    </tr>\n",
       "    <tr>\n",
       "      <th>24</th>\n",
       "      <td>0</td>\n",
       "    </tr>\n",
       "    <tr>\n",
       "      <th>25</th>\n",
       "      <td>1</td>\n",
       "    </tr>\n",
       "    <tr>\n",
       "      <th>26</th>\n",
       "      <td>2</td>\n",
       "    </tr>\n",
       "    <tr>\n",
       "      <th>27</th>\n",
       "      <td>3</td>\n",
       "    </tr>\n",
       "    <tr>\n",
       "      <th>28</th>\n",
       "      <td>4</td>\n",
       "    </tr>\n",
       "    <tr>\n",
       "      <th>29</th>\n",
       "      <td>5</td>\n",
       "    </tr>\n",
       "    <tr>\n",
       "      <th>30</th>\n",
       "      <td>0</td>\n",
       "    </tr>\n",
       "    <tr>\n",
       "      <th>31</th>\n",
       "      <td>1</td>\n",
       "    </tr>\n",
       "    <tr>\n",
       "      <th>32</th>\n",
       "      <td>2</td>\n",
       "    </tr>\n",
       "    <tr>\n",
       "      <th>33</th>\n",
       "      <td>3</td>\n",
       "    </tr>\n",
       "    <tr>\n",
       "      <th>34</th>\n",
       "      <td>4</td>\n",
       "    </tr>\n",
       "    <tr>\n",
       "      <th>35</th>\n",
       "      <td>5</td>\n",
       "    </tr>\n",
       "    <tr>\n",
       "      <th>36</th>\n",
       "      <td>0</td>\n",
       "    </tr>\n",
       "    <tr>\n",
       "      <th>37</th>\n",
       "      <td>1</td>\n",
       "    </tr>\n",
       "    <tr>\n",
       "      <th>38</th>\n",
       "      <td>2</td>\n",
       "    </tr>\n",
       "    <tr>\n",
       "      <th>39</th>\n",
       "      <td>3</td>\n",
       "    </tr>\n",
       "    <tr>\n",
       "      <th>40</th>\n",
       "      <td>4</td>\n",
       "    </tr>\n",
       "    <tr>\n",
       "      <th>41</th>\n",
       "      <td>5</td>\n",
       "    </tr>\n",
       "  </tbody>\n",
       "</table>\n",
       "</div>"
      ],
      "text/plain": [
       "    activity\n",
       "0          0\n",
       "1          1\n",
       "2          2\n",
       "3          3\n",
       "4          4\n",
       "5          5\n",
       "6          0\n",
       "7          1\n",
       "8          4\n",
       "9          5\n",
       "10         0\n",
       "11         1\n",
       "12         4\n",
       "13         5\n",
       "14         0\n",
       "15         1\n",
       "16         4\n",
       "17         5\n",
       "18         0\n",
       "19         1\n",
       "20         2\n",
       "21         3\n",
       "22         4\n",
       "23         5\n",
       "24         0\n",
       "25         1\n",
       "26         2\n",
       "27         3\n",
       "28         4\n",
       "29         5\n",
       "30         0\n",
       "31         1\n",
       "32         2\n",
       "33         3\n",
       "34         4\n",
       "35         5\n",
       "36         0\n",
       "37         1\n",
       "38         2\n",
       "39         3\n",
       "40         4\n",
       "41         5"
      ]
     },
     "execution_count": 23,
     "metadata": {},
     "output_type": "execute_result"
    }
   ],
   "source": [
    "y_test"
   ]
  },
  {
   "cell_type": "code",
   "execution_count": 24,
   "metadata": {},
   "outputs": [
    {
     "name": "stdout",
     "output_type": "stream",
     "text": [
      "1/1 [==============================] - 2s 2s/step\n"
     ]
    },
    {
     "data": {
      "text/html": [
       "<style>#sk-container-id-1 {color: black;background-color: white;}#sk-container-id-1 pre{padding: 0;}#sk-container-id-1 div.sk-toggleable {background-color: white;}#sk-container-id-1 label.sk-toggleable__label {cursor: pointer;display: block;width: 100%;margin-bottom: 0;padding: 0.3em;box-sizing: border-box;text-align: center;}#sk-container-id-1 label.sk-toggleable__label-arrow:before {content: \"▸\";float: left;margin-right: 0.25em;color: #696969;}#sk-container-id-1 label.sk-toggleable__label-arrow:hover:before {color: black;}#sk-container-id-1 div.sk-estimator:hover label.sk-toggleable__label-arrow:before {color: black;}#sk-container-id-1 div.sk-toggleable__content {max-height: 0;max-width: 0;overflow: hidden;text-align: left;background-color: #f0f8ff;}#sk-container-id-1 div.sk-toggleable__content pre {margin: 0.2em;color: black;border-radius: 0.25em;background-color: #f0f8ff;}#sk-container-id-1 input.sk-toggleable__control:checked~div.sk-toggleable__content {max-height: 200px;max-width: 100%;overflow: auto;}#sk-container-id-1 input.sk-toggleable__control:checked~label.sk-toggleable__label-arrow:before {content: \"▾\";}#sk-container-id-1 div.sk-estimator input.sk-toggleable__control:checked~label.sk-toggleable__label {background-color: #d4ebff;}#sk-container-id-1 div.sk-label input.sk-toggleable__control:checked~label.sk-toggleable__label {background-color: #d4ebff;}#sk-container-id-1 input.sk-hidden--visually {border: 0;clip: rect(1px 1px 1px 1px);clip: rect(1px, 1px, 1px, 1px);height: 1px;margin: -1px;overflow: hidden;padding: 0;position: absolute;width: 1px;}#sk-container-id-1 div.sk-estimator {font-family: monospace;background-color: #f0f8ff;border: 1px dotted black;border-radius: 0.25em;box-sizing: border-box;margin-bottom: 0.5em;}#sk-container-id-1 div.sk-estimator:hover {background-color: #d4ebff;}#sk-container-id-1 div.sk-parallel-item::after {content: \"\";width: 100%;border-bottom: 1px solid gray;flex-grow: 1;}#sk-container-id-1 div.sk-label:hover label.sk-toggleable__label {background-color: #d4ebff;}#sk-container-id-1 div.sk-serial::before {content: \"\";position: absolute;border-left: 1px solid gray;box-sizing: border-box;top: 0;bottom: 0;left: 50%;z-index: 0;}#sk-container-id-1 div.sk-serial {display: flex;flex-direction: column;align-items: center;background-color: white;padding-right: 0.2em;padding-left: 0.2em;position: relative;}#sk-container-id-1 div.sk-item {position: relative;z-index: 1;}#sk-container-id-1 div.sk-parallel {display: flex;align-items: stretch;justify-content: center;background-color: white;position: relative;}#sk-container-id-1 div.sk-item::before, #sk-container-id-1 div.sk-parallel-item::before {content: \"\";position: absolute;border-left: 1px solid gray;box-sizing: border-box;top: 0;bottom: 0;left: 50%;z-index: -1;}#sk-container-id-1 div.sk-parallel-item {display: flex;flex-direction: column;z-index: 1;position: relative;background-color: white;}#sk-container-id-1 div.sk-parallel-item:first-child::after {align-self: flex-end;width: 50%;}#sk-container-id-1 div.sk-parallel-item:last-child::after {align-self: flex-start;width: 50%;}#sk-container-id-1 div.sk-parallel-item:only-child::after {width: 0;}#sk-container-id-1 div.sk-dashed-wrapped {border: 1px dashed gray;margin: 0 0.4em 0.5em 0.4em;box-sizing: border-box;padding-bottom: 0.4em;background-color: white;}#sk-container-id-1 div.sk-label label {font-family: monospace;font-weight: bold;display: inline-block;line-height: 1.2em;}#sk-container-id-1 div.sk-label-container {text-align: center;}#sk-container-id-1 div.sk-container {/* jupyter's `normalize.less` sets `[hidden] { display: none; }` but bootstrap.min.css set `[hidden] { display: none !important; }` so we also need the `!important` here to be able to override the default hidden behavior on the sphinx rendered scikit-learn.org. See: https://github.com/scikit-learn/scikit-learn/issues/21755 */display: inline-block !important;position: relative;}#sk-container-id-1 div.sk-text-repr-fallback {display: none;}</style><div id=\"sk-container-id-1\" class=\"sk-top-container\"><div class=\"sk-text-repr-fallback\"><pre>CalibratedClassifierCV(cv=&#x27;prefit&#x27;,\n",
       "                       estimator=&lt;__main__.MyKerasClassifier object at 0x2c9199040&gt;,\n",
       "                       method=&#x27;isotonic&#x27;, n_jobs=10)</pre><b>In a Jupyter environment, please rerun this cell to show the HTML representation or trust the notebook. <br />On GitHub, the HTML representation is unable to render, please try loading this page with nbviewer.org.</b></div><div class=\"sk-container\" hidden><div class=\"sk-item sk-dashed-wrapped\"><div class=\"sk-label-container\"><div class=\"sk-label sk-toggleable\"><input class=\"sk-toggleable__control sk-hidden--visually\" id=\"sk-estimator-id-1\" type=\"checkbox\" ><label for=\"sk-estimator-id-1\" class=\"sk-toggleable__label sk-toggleable__label-arrow\">CalibratedClassifierCV</label><div class=\"sk-toggleable__content\"><pre>CalibratedClassifierCV(cv=&#x27;prefit&#x27;,\n",
       "                       estimator=&lt;__main__.MyKerasClassifier object at 0x2c9199040&gt;,\n",
       "                       method=&#x27;isotonic&#x27;, n_jobs=10)</pre></div></div></div><div class=\"sk-parallel\"><div class=\"sk-parallel-item\"><div class=\"sk-item\"><div class=\"sk-label-container\"><div class=\"sk-label sk-toggleable\"><input class=\"sk-toggleable__control sk-hidden--visually\" id=\"sk-estimator-id-2\" type=\"checkbox\" ><label for=\"sk-estimator-id-2\" class=\"sk-toggleable__label sk-toggleable__label-arrow\">estimator: MyKerasClassifier</label><div class=\"sk-toggleable__content\"><pre>&lt;__main__.MyKerasClassifier object at 0x2c9199040&gt;</pre></div></div></div><div class=\"sk-serial\"><div class=\"sk-item\"><div class=\"sk-estimator sk-toggleable\"><input class=\"sk-toggleable__control sk-hidden--visually\" id=\"sk-estimator-id-3\" type=\"checkbox\" ><label for=\"sk-estimator-id-3\" class=\"sk-toggleable__label sk-toggleable__label-arrow\">MyKerasClassifier</label><div class=\"sk-toggleable__content\"><pre>&lt;__main__.MyKerasClassifier object at 0x2c9199040&gt;</pre></div></div></div></div></div></div></div></div></div></div>"
      ],
      "text/plain": [
       "CalibratedClassifierCV(cv='prefit',\n",
       "                       estimator=<__main__.MyKerasClassifier object at 0x2c9199040>,\n",
       "                       method='isotonic', n_jobs=10)"
      ]
     },
     "execution_count": 24,
     "metadata": {},
     "output_type": "execute_result"
    }
   ],
   "source": [
    "calibrated_model = CalibratedClassifierCV(best_model, cv='prefit', method='isotonic', n_jobs=10)\n",
    "calibrated_model.fit(X_val, y_val)"
   ]
  },
  {
   "cell_type": "code",
   "execution_count": 25,
   "metadata": {},
   "outputs": [
    {
     "name": "stdout",
     "output_type": "stream",
     "text": [
      "2/2 [==============================] - 4s 2s/step\n"
     ]
    },
    {
     "data": {
      "text/plain": [
       "array([[0.13802302, 0.2366109 , 0.16562763, 0.20703453, 0.09742802,\n",
       "        0.1552759 ],\n",
       "       [0.21164021, 0.        , 0.        , 0.12698413, 0.42328043,\n",
       "        0.23809523],\n",
       "       [0.27916251, 0.        , 0.        , 0.16749751, 0.23928216,\n",
       "        0.31405782],\n",
       "       [0.11215834, 0.11875589, 0.        , 0.        , 0.09613572,\n",
       "        0.67295004],\n",
       "       [0.14173256, 0.19813341, 0.17007907, 0.21259884, 0.11800698,\n",
       "        0.15944913],\n",
       "       [0.17051154, 0.18054163, 0.17051154, 0.10230692, 0.12036108,\n",
       "        0.2557673 ],\n",
       "       [0.19546686, 0.20696491, 0.095666  , 0.11728012, 0.1647219 ,\n",
       "        0.21990021],\n",
       "       [0.16614026, 0.17591321, 0.19177653, 0.09968415, 0.11727547,\n",
       "        0.24921038],\n",
       "       [0.17989418, 0.19047619, 0.        , 0.        , 0.35978836,\n",
       "        0.26984126],\n",
       "       [0.18215912, 0.19287437, 0.18215912, 0.10929547, 0.12858291,\n",
       "        0.20492901],\n",
       "       [0.18730379, 0.19832166, 0.18730379, 0.        , 0.1461151 ,\n",
       "        0.28095567],\n",
       "       [0.17051154, 0.18054163, 0.17051154, 0.10230692, 0.12036108,\n",
       "        0.2557673 ],\n",
       "       [0.17051154, 0.18054163, 0.17051154, 0.10230692, 0.12036108,\n",
       "        0.2557673 ],\n",
       "       [0.17532865, 0.1856421 , 0.17532865, 0.07694622, 0.1237614 ,\n",
       "        0.26299297],\n",
       "       [0.1735384 , 0.18374654, 0.20824608, 0.10412304, 0.12249769,\n",
       "        0.20784825],\n",
       "       [0.18043688, 0.23130305, 0.18043688, 0.00775853, 0.12736721,\n",
       "        0.27269744],\n",
       "       [0.27916251, 0.        , 0.        , 0.16749751, 0.23928216,\n",
       "        0.31405782],\n",
       "       [0.21164021, 0.        , 0.        , 0.12698413, 0.42328043,\n",
       "        0.23809523],\n",
       "       [0.15760024, 0.27017184, 0.18912028, 0.09456014, 0.11124723,\n",
       "        0.17730026],\n",
       "       [0.2269693 , 0.        , 0.27236315, 0.34045393, 0.16021362,\n",
       "        0.        ],\n",
       "       [0.2269693 , 0.        , 0.27236315, 0.34045393, 0.16021362,\n",
       "        0.        ],\n",
       "       [0.09732699, 0.13957457, 0.09732699, 0.        , 0.08180956,\n",
       "        0.5839619 ],\n",
       "       [0.1672971 , 0.17713811, 0.18614882, 0.10037826, 0.11809207,\n",
       "        0.25094564],\n",
       "       [0.1828185 , 0.19357253, 0.09939727, 0.1096911 , 0.14029287,\n",
       "        0.27422774],\n",
       "       [0.17989418, 0.19047619, 0.        , 0.        , 0.35978836,\n",
       "        0.26984126],\n",
       "       [0.15837478, 0.26658506, 0.19004973, 0.09502486, 0.11179396,\n",
       "        0.17817162],\n",
       "       [0.21547237, 0.22814721, 0.        , 0.12928342, 0.1846906 ,\n",
       "        0.2424064 ],\n",
       "       [0.13802302, 0.2366109 , 0.16562763, 0.20703453, 0.09742802,\n",
       "        0.1552759 ],\n",
       "       [0.15972692, 0.16912262, 0.1916723 , 0.23959038, 0.11274841,\n",
       "        0.12713937],\n",
       "       [0.0019773 , 0.28059341, 0.19641538, 0.22133602, 0.11553846,\n",
       "        0.18413942],\n",
       "       [0.02866767, 0.32521221, 0.22764854, 0.28456067, 0.13391091,\n",
       "        0.        ],\n",
       "       [0.25270758, 0.        , 0.        , 0.15162455, 0.2166065 ,\n",
       "        0.37906136],\n",
       "       [0.17989418, 0.19047619, 0.        , 0.        , 0.35978836,\n",
       "        0.26984126],\n",
       "       [0.20357461, 0.21554958, 0.        , 0.10102138, 0.17449252,\n",
       "        0.3053619 ],\n",
       "       [0.20416527, 0.        , 0.        , 0.12249916, 0.40833055,\n",
       "        0.26500502],\n",
       "       [0.10582504, 0.11205004, 0.        , 0.        , 0.21165008,\n",
       "        0.57047485],\n",
       "       [0.15823933, 0.16754753, 0.14713656, 0.23735899, 0.11169835,\n",
       "        0.17801924],\n",
       "       [0.23193477, 0.        , 0.        , 0.13916086, 0.36797777,\n",
       "        0.26092661],\n",
       "       [0.226451  , 0.23977165, 0.        , 0.        , 0.19410086,\n",
       "        0.33967649],\n",
       "       [0.20365454, 0.        , 0.        , 0.12219272, 0.40730908,\n",
       "        0.26684365],\n",
       "       [0.2269693 , 0.        , 0.27236315, 0.34045393, 0.16021362,\n",
       "        0.        ],\n",
       "       [0.22672161, 0.15469588, 0.        , 0.13603297, 0.19433281,\n",
       "        0.28821673]])"
      ]
     },
     "execution_count": 25,
     "metadata": {},
     "output_type": "execute_result"
    }
   ],
   "source": [
    "calibrated_preds = calibrated_model.predict_proba(X_test)\n",
    "calibrated_preds"
   ]
  },
  {
   "cell_type": "code",
   "execution_count": null,
   "metadata": {},
   "outputs": [],
   "source": []
  }
 ],
 "metadata": {
  "kernelspec": {
   "display_name": ".3_venv",
   "language": "python",
   "name": "python3"
  },
  "language_info": {
   "codemirror_mode": {
    "name": "ipython",
    "version": 3
   },
   "file_extension": ".py",
   "mimetype": "text/x-python",
   "name": "python",
   "nbconvert_exporter": "python",
   "pygments_lexer": "ipython3",
   "version": "3.9.6"
  },
  "orig_nbformat": 4
 },
 "nbformat": 4,
 "nbformat_minor": 2
}
